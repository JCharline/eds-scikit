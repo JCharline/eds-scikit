{
 "cells": [
  {
   "cell_type": "markdown",
   "metadata": {},
   "source": [
    "# Diabetes as a risk factor for infarction\n",
    "\n",
    "## Goal\n",
    "\n",
    "The goal here is to estimate the prevalence of diabetes for patients that had an infarction.  \n",
    "\n",
    "## Method\n",
    "\n",
    "- The diabetic status of a patient is retrieved using ICD-10 codes.\n",
    "- A \"diabetic period\" is forged by using the date of the first diabete-related ICD-10 occurrence\n",
    "- The same method is used to retrieve infarction occurrences\n",
    "- Each infarction event is tagged using the \"diabetic period\""
   ]
  },
  {
   "cell_type": "code",
   "execution_count": 1,
   "metadata": {},
   "outputs": [],
   "source": [
    "%load_ext autoreload\n",
    "%autoreload 2"
   ]
  },
  {
   "cell_type": "code",
   "execution_count": 2,
   "metadata": {},
   "outputs": [],
   "source": [
    "DBNAME = \"coronaomop_unstable\""
   ]
  },
  {
   "cell_type": "markdown",
   "metadata": {},
   "source": [
    "## Analysis\n",
    "\n",
    "### Loading data\n",
    "\n",
    "Provide your database name instead of the `DBNAME` placeholder below"
   ]
  },
  {
   "cell_type": "code",
   "execution_count": 3,
   "metadata": {},
   "outputs": [
    {
     "name": "stderr",
     "output_type": "stream",
     "text": [
      "2022-05-18 15:34:44.676 | WARNING  | eds_scikit:<module>:25 - \n",
      "    To improve performances when using Spark and Koalas, please call `eds_scikit.improve_performances()`\n",
      "    This function optimally configures Spark. Use it as:\n",
      "    `spark, sc, sql = eds_scikit.improve_performances()`\n",
      "    The functions respectively returns a SparkSession, a SparkContext and an sql method\n",
      "    \n",
      "/export/home/tpetitjean/.user_conda/miniconda/envs/scikit/lib/python3.7/site-packages/pyarrow/util.py:43: FutureWarning: pyarrow.open_stream is deprecated as of 0.17.0, please use pyarrow.ipc.open_stream instead.\n",
      "  warnings.warn(msg, FutureWarning)\n",
      "                                                                                \r"
     ]
    }
   ],
   "source": [
    "import eds_scikit\n",
    "\n",
    "spark, sc, sql = eds_scikit.improve_performances()\n",
    "\n",
    "from eds_scikit.io.hive import HiveData\n",
    "\n",
    "# Data from Hive\n",
    "data = HiveData(DBNAME)"
   ]
  },
  {
   "cell_type": "code",
   "execution_count": 4,
   "metadata": {},
   "outputs": [],
   "source": [
    "import datetime\n",
    "\n",
    "from eds_scikit.event import conditions_from_icd10\n",
    "from eds_scikit.event.diabetes import diabetes_from_icd10\n",
    "from eds_scikit.period.tagging_functions import tagging"
   ]
  },
  {
   "cell_type": "markdown",
   "metadata": {},
   "source": [
    "We won't dive into the details of each function here, but you should definitely check the available parameters in the documentation. For instance, check to documentation of the `diabetes_from_icd10` function [here][eds_scikit.event.diabetes.diabetes_from_icd10].  \n",
    "\n",
    "### Extraction of the diabetic status\n",
    "\n",
    "So let us get visits containing a diabetes-related ICD-10 code:"
   ]
  },
  {
   "cell_type": "code",
   "execution_count": 5,
   "metadata": {},
   "outputs": [],
   "source": [
    "event_diabetes = diabetes_from_icd10(\n",
    "    condition_occurrence=data.condition_occurrence,\n",
    "    visit_occurrence=data.visit_occurrence,\n",
    "    date_min=datetime.datetime(2017,1,1),\n",
    "    date_max=None,\n",
    ") "
   ]
  },
  {
   "cell_type": "code",
   "execution_count": 6,
   "metadata": {},
   "outputs": [
    {
     "name": "stderr",
     "output_type": "stream",
     "text": [
      "                                                                                \r"
     ]
    },
    {
     "data": {
      "text/plain": [
       "concept              value                  \n",
       "DIABETES_FROM_ICD10  DIABETES_TYPE_II           285544\n",
       "                     DIABETES_MALNUTRITION         525\n",
       "                     DIABETES_INSIPIDUS           2612\n",
       "                     DIABETES_IN_PREGNANCY        6502\n",
       "                     OTHER_DIABETES_MELLITUS     15124\n",
       "                     DIABETES_TYPE_I             30056\n",
       "dtype: int64"
      ]
     },
     "execution_count": 6,
     "metadata": {},
     "output_type": "execute_result"
    }
   ],
   "source": [
    "event_diabetes.groupby([\"concept\",\"value\"]).size()"
   ]
  },
  {
   "cell_type": "markdown",
   "metadata": {},
   "source": [
    "The [default configuration][eds_scikit.event.diabetes.DEFAULT_DIABETE_FROM_ICD10_CONFIG] shows that various diabetes types are extracted. Lets only keep the ones we're interested in"
   ]
  },
  {
   "cell_type": "code",
   "execution_count": 51,
   "metadata": {},
   "outputs": [],
   "source": [
    "kept_diabetes = [\n",
    "    'DIABETES_TYPE_I',\n",
    "    'DIABETES_TYPE_II',\n",
    "    'OTHER_DIABETES_MELLITUS',\n",
    "]"
   ]
  },
  {
   "cell_type": "code",
   "execution_count": 40,
   "metadata": {},
   "outputs": [],
   "source": [
    "event_diabetes = event_diabetes[event_diabetes.value.isin(kept_diabetes)] "
   ]
  },
  {
   "cell_type": "markdown",
   "metadata": {},
   "source": [
    "Finally we can switch from an event-level DataFrame to a person-level DataFrame"
   ]
  },
  {
   "cell_type": "code",
   "execution_count": 41,
   "metadata": {},
   "outputs": [],
   "source": [
    "person_diabetes = (\n",
    "    event_diabetes\n",
    "    .groupby(['person_id','concept','value'])\n",
    "   .agg(\n",
    "       t_start=('t_start','min'),\n",
    "       t_end=('t_end','max'),\n",
    "   )\n",
    "   .reset_index()\n",
    ")\n",
    "\n",
    "person_diabetes.loc[:,'t_end'] = datetime.datetime.now()"
   ]
  },
  {
   "cell_type": "markdown",
   "metadata": {},
   "source": [
    "Let's run the pipeline defined above and extract everything as a Pandas DataFrame"
   ]
  },
  {
   "cell_type": "code",
   "execution_count": null,
   "metadata": {},
   "outputs": [],
   "source": [
    "person_diabetes_pd = person_diabetes.to_pandas()"
   ]
  },
  {
   "cell_type": "markdown",
   "metadata": {},
   "source": [
    "We can check the extracted concept:"
   ]
  },
  {
   "cell_type": "code",
   "execution_count": 75,
   "metadata": {},
   "outputs": [
    {
     "data": {
      "text/plain": [
       "array(['DIABETES_FROM_ICD10'], dtype=object)"
      ]
     },
     "execution_count": 75,
     "metadata": {},
     "output_type": "execute_result"
    }
   ],
   "source": [
    "person_diabetes_pd.concept.unique()"
   ]
  },
  {
   "cell_type": "markdown",
   "metadata": {},
   "source": [
    "And the repartition of the corresponding values:"
   ]
  },
  {
   "cell_type": "code",
   "execution_count": 77,
   "metadata": {},
   "outputs": [
    {
     "data": {
      "text/plain": [
       "DIABETES_TYPE_II           0.790726\n",
       "DIABETES_TYPE_I            0.136691\n",
       "OTHER_DIABETES_MELLITUS    0.072583\n",
       "Name: value, dtype: float64"
      ]
     },
     "execution_count": 77,
     "metadata": {},
     "output_type": "execute_result"
    }
   ],
   "source": [
    "person_diabetes_pd.value.value_counts(normalize=True)"
   ]
  },
  {
   "cell_type": "markdown",
   "metadata": {},
   "source": [
    "### Extraction of infarction occurrences\n",
    "\n",
    "As mentionned above, please check the [documentation of the `conditions_from_icd10` function][eds_scikit.event.conditions_from_icd10] for more implementation details."
   ]
  },
  {
   "cell_type": "code",
   "execution_count": 42,
   "metadata": {},
   "outputs": [],
   "source": [
    "infarction_codes = dict(\n",
    "    INFARCTION=dict(\n",
    "        code_list=\"I21\",\n",
    "        code_type=\"prefix\",\n",
    "    )\n",
    ")\n",
    "\n",
    "event_infarction = conditions_from_icd10(\n",
    "    condition_occurrence=data.condition_occurrence,\n",
    "    visit_occurrence=data.visit_occurrence,\n",
    "    codes=infarction_codes,\n",
    "    date_from_visit=True,\n",
    "    additional_filtering=dict(\n",
    "        condition_status_source_value={\"DP\", \"DAS\"}\n",
    "    ),\n",
    "    date_min=datetime.datetime(2017,1,1),\n",
    "    date_max=None,\n",
    ")\n",
    "\n",
    "event_infarction_pd = event_infarction.to_pandas()"
   ]
  },
  {
   "cell_type": "markdown",
   "metadata": {},
   "source": [
    "By using the dedicated [`tagging`][eds_scikit.period.tagging_functions.tagging] function, we can tag each infarction occurrence with the diabetic status of the patient **at the moment of the infarction**:"
   ]
  },
  {
   "cell_type": "code",
   "execution_count": 92,
   "metadata": {},
   "outputs": [
    {
     "data": {
      "text/html": [
       "<div>\n",
       "<style scoped>\n",
       "    .dataframe tbody tr th:only-of-type {\n",
       "        vertical-align: middle;\n",
       "    }\n",
       "\n",
       "    .dataframe tbody tr th {\n",
       "        vertical-align: top;\n",
       "    }\n",
       "\n",
       "    .dataframe thead th {\n",
       "        text-align: right;\n",
       "    }\n",
       "</style>\n",
       "<table border=\"1\" class=\"dataframe\">\n",
       "  <thead>\n",
       "    <tr style=\"text-align: right;\">\n",
       "      <th></th>\n",
       "      <th>t_start</th>\n",
       "      <th>t_end</th>\n",
       "      <th>concept</th>\n",
       "      <th>value</th>\n",
       "      <th>visit_occurrence_id</th>\n",
       "      <th>condition_status_source_value</th>\n",
       "      <th>DIABETES_TYPE_I</th>\n",
       "      <th>DIABETES_TYPE_II</th>\n",
       "      <th>OTHER_DIABETES_MELLITUS</th>\n",
       "    </tr>\n",
       "  </thead>\n",
       "  <tbody>\n",
       "    <tr>\n",
       "      <th>0</th>\n",
       "      <td>2017-01-06 08:40:00</td>\n",
       "      <td>2017-01-10 12:18:00</td>\n",
       "      <td>INFARCTION</td>\n",
       "      <td>I21400</td>\n",
       "      <td>217977558</td>\n",
       "      <td>DP</td>\n",
       "      <td>False</td>\n",
       "      <td>True</td>\n",
       "      <td>False</td>\n",
       "    </tr>\n",
       "    <tr>\n",
       "      <th>1</th>\n",
       "      <td>2017-05-04 11:13:00</td>\n",
       "      <td>2017-05-05 15:11:00</td>\n",
       "      <td>INFARCTION</td>\n",
       "      <td>I2120</td>\n",
       "      <td>251157356</td>\n",
       "      <td>DP</td>\n",
       "      <td>False</td>\n",
       "      <td>False</td>\n",
       "      <td>False</td>\n",
       "    </tr>\n",
       "    <tr>\n",
       "      <th>2</th>\n",
       "      <td>2017-05-04 11:13:00</td>\n",
       "      <td>2017-05-05 15:11:00</td>\n",
       "      <td>INFARCTION</td>\n",
       "      <td>I21200</td>\n",
       "      <td>251157356</td>\n",
       "      <td>DP</td>\n",
       "      <td>False</td>\n",
       "      <td>False</td>\n",
       "      <td>False</td>\n",
       "    </tr>\n",
       "    <tr>\n",
       "      <th>3</th>\n",
       "      <td>2017-05-28 11:33:00</td>\n",
       "      <td>2017-06-15 13:33:00</td>\n",
       "      <td>INFARCTION</td>\n",
       "      <td>I2140</td>\n",
       "      <td>259440193</td>\n",
       "      <td>DP</td>\n",
       "      <td>False</td>\n",
       "      <td>False</td>\n",
       "      <td>False</td>\n",
       "    </tr>\n",
       "    <tr>\n",
       "      <th>4</th>\n",
       "      <td>2017-07-30 12:57:00</td>\n",
       "      <td>2017-08-31 17:07:00</td>\n",
       "      <td>INFARCTION</td>\n",
       "      <td>I2100</td>\n",
       "      <td>277123123</td>\n",
       "      <td>DP</td>\n",
       "      <td>False</td>\n",
       "      <td>True</td>\n",
       "      <td>False</td>\n",
       "    </tr>\n",
       "  </tbody>\n",
       "</table>\n",
       "</div>"
      ],
      "text/plain": [
       "              t_start               t_end     concept   value  \\\n",
       "0 2017-01-06 08:40:00 2017-01-10 12:18:00  INFARCTION  I21400   \n",
       "1 2017-05-04 11:13:00 2017-05-05 15:11:00  INFARCTION   I2120   \n",
       "2 2017-05-04 11:13:00 2017-05-05 15:11:00  INFARCTION  I21200   \n",
       "3 2017-05-28 11:33:00 2017-06-15 13:33:00  INFARCTION   I2140   \n",
       "4 2017-07-30 12:57:00 2017-08-31 17:07:00  INFARCTION   I2100   \n",
       "\n",
       "   visit_occurrence_id condition_status_source_value  DIABETES_TYPE_I  \\\n",
       "0            217977558                            DP            False   \n",
       "1            251157356                            DP            False   \n",
       "2            251157356                            DP            False   \n",
       "3            259440193                            DP            False   \n",
       "4            277123123                            DP            False   \n",
       "\n",
       "   DIABETES_TYPE_II  OTHER_DIABETES_MELLITUS  \n",
       "0              True                    False  \n",
       "1             False                    False  \n",
       "2             False                    False  \n",
       "3             False                    False  \n",
       "4              True                    False  "
      ]
     },
     "execution_count": 92,
     "metadata": {},
     "output_type": "execute_result"
    }
   ],
   "source": [
    "tagged_infarction = tagging(\n",
    "    event_infarction_pd,\n",
    "    person_diabetes_pd,\n",
    "    concept_to_tag=\"DIABETES_FROM_ICD10\",\n",
    "    algo=\"intersection\",\n",
    ")\n",
    "tagged_infarction.drop(columns={\"person_id\"}).head()"
   ]
  },
  {
   "cell_type": "markdown",
   "metadata": {},
   "source": [
    "The prevalence of diabetes for\n",
    "\n",
    "- patients that had an infarction\n",
    "- the general population\n",
    "\n",
    "can now easily be computed"
   ]
  },
  {
   "cell_type": "code",
   "execution_count": 93,
   "metadata": {},
   "outputs": [],
   "source": [
    "diabetes_and_infarctus_prevalence = (\n",
    "    100\n",
    "    * tagged_infarction[\n",
    "        tagged_infarction[kept_diabetes].any(axis=1)\n",
    "    ].person_id.nunique()\n",
    "    / tagged_infarction.person_id.nunique()\n",
    ")"
   ]
  },
  {
   "cell_type": "code",
   "execution_count": 94,
   "metadata": {},
   "outputs": [],
   "source": [
    "diabetes_prevalence = 100 * (\n",
    "    person_diabetes_pd.person_id.nunique()\n",
    "    / data.condition_occurrence.person_id.nunique()\n",
    ")"
   ]
  },
  {
   "cell_type": "code",
   "execution_count": 73,
   "metadata": {},
   "outputs": [
    {
     "name": "stdout",
     "output_type": "stream",
     "text": [
      "Prevalence of diabetes in the general population: 5.69%\n",
      "Prevalence of diabetes in infarction: 24.60%\n"
     ]
    }
   ],
   "source": [
    "print(f\"Prevalence of diabetes in the general population: {diabetes_prevalence:.2f}%\")\n",
    "print(f\"Prevalence of diabetes in infarction: {diabetes_and_infarctus_prevalence:.2f}%\")"
   ]
  },
  {
   "cell_type": "markdown",
   "metadata": {},
   "source": [
    "## Saving cohort to disk\n",
    "\n",
    "For further analysis, we may want to focus only on diabetic patients.  \n",
    "As this will be a modest size cohort, its analysis may be easier with Pandas.  \n",
    "We can thus store this cohort on disk, and use it later as Pandas DataFrames"
   ]
  },
  {
   "cell_type": "code",
   "execution_count": 18,
   "metadata": {},
   "outputs": [],
   "source": [
    "from eds_scikit.io.files import PandasData"
   ]
  },
  {
   "cell_type": "code",
   "execution_count": 21,
   "metadata": {},
   "outputs": [],
   "source": [
    "folder = './diabetes_data/'"
   ]
  },
  {
   "cell_type": "code",
   "execution_count": null,
   "metadata": {},
   "outputs": [],
   "source": [
    "data.persist_tables_to_folder(\n",
    "    folder = folder,\n",
    "    person_ids = person_diabetes_pd['person_id'],\n",
    ")"
   ]
  },
  {
   "cell_type": "markdown",
   "metadata": {},
   "source": [
    "The cohort is now easily available:"
   ]
  },
  {
   "cell_type": "code",
   "execution_count": null,
   "metadata": {},
   "outputs": [],
   "source": [
    "data = PandasData(folder_path)"
   ]
  },
  {
   "cell_type": "markdown",
   "metadata": {},
   "source": [
    "As before, you can now use `data.person`, `data.visit_occurrence`, etc.  \n",
    "**Here**, those tables will be Pandas Dataframes."
   ]
  }
 ],
 "metadata": {
  "kernelspec": {
   "display_name": "Python 3.7.13 ('.venv': venv)",
   "language": "python",
   "name": "python3"
  },
  "language_info": {
   "codemirror_mode": {
    "name": "ipython",
    "version": 3
   },
   "file_extension": ".py",
   "mimetype": "text/x-python",
   "name": "python",
   "nbconvert_exporter": "python",
   "pygments_lexer": "ipython3",
   "version": "3.7.13"
  },
  "vscode": {
   "interpreter": {
    "hash": "a251e067adbd8c45f6d9e77d22a52920634565c087038863128b0fd851122a62"
   }
  },
  "widgets": {
   "application/vnd.jupyter.widget-state+json": {
    "state": {},
    "version_major": 2,
    "version_minor": 0
   }
  }
 },
 "nbformat": 4,
 "nbformat_minor": 5
}
