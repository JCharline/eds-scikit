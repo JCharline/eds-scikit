{
 "cells": [
  {
   "cell_type": "markdown",
   "source": [
    "# Merging visits into stays"
   ],
   "metadata": {}
  },
  {
   "cell_type": "markdown",
   "source": [
    "In order to have a precise view of each patient's course of care, it can be useful to **merge together visit occurrences into stays.**\n",
    "\n",
    "A crude way of doing so is by using the `preceding_visit_occurrence_id` column in the `visit_occurrence` table. However, this columns isn't always filled, and a lot of visits would be missed by using only this method.\n",
    "\n",
    "The method proposed here relies on **how close two visits are** in order to put them in the same stay. This is the role of the `merge_visits()` functions:"
   ],
   "metadata": {}
  },
  {
   "cell_type": "code",
   "execution_count": null,
   "source": [
    "import eds_scikit\n",
    "spark, sc, sql = eds_scikit.improve_performances()"
   ],
   "outputs": [],
   "metadata": {}
  },
  {
   "cell_type": "code",
   "execution_count": 2,
   "source": [
    "from eds_scikit.period.stays import merge_visits"
   ],
   "outputs": [],
   "metadata": {}
  },
  {
   "cell_type": "markdown",
   "source": [
    "Another function, `get_stays_duration()`, can then be used to extract a *stay DataFrame* with useful informations:"
   ],
   "metadata": {}
  },
  {
   "cell_type": "code",
   "execution_count": 3,
   "source": [
    "from eds_scikit.period.stays import get_stays_duration"
   ],
   "outputs": [],
   "metadata": {}
  },
  {
   "cell_type": "code",
   "execution_count": 4,
   "source": [
    "%config Completer.use_jedi = False\n",
    "%load_ext autoreload\n",
    "%autoreload 2"
   ],
   "outputs": [],
   "metadata": {}
  },
  {
   "cell_type": "markdown",
   "source": [
    "## Loading data"
   ],
   "metadata": {}
  },
  {
   "cell_type": "code",
   "execution_count": null,
   "source": [
    "import databricks.koalas as ks\n",
    "import pandas as pd\n",
    "\n",
    "import altair as alt\n",
    "\n",
    "from datetime import datetime, timedelta\n",
    "\n",
    "from eds_scikit.io import HiveData\n",
    "from eds_scikit.utils.datetime_helpers import substract_datetime\n",
    "\n",
    "data = HiveData(spark, database_name='eds_lib_poc')\n",
    "\n",
    "vo = data.visit_occurrence"
   ],
   "outputs": [],
   "metadata": {}
  },
  {
   "cell_type": "markdown",
   "source": [
    "This cohort is of reasonnable size, so we can work with Pandas in this case:"
   ],
   "metadata": {}
  },
  {
   "cell_type": "code",
   "execution_count": null,
   "source": [
    "vo_pd = vo.to_pandas()"
   ],
   "outputs": [],
   "metadata": {}
  },
  {
   "cell_type": "markdown",
   "source": [
    "## Getting stays\n",
    "\n",
    "We can now merge visits into stays. Check the corresponding documentation for more informations about each individual parameter"
   ],
   "metadata": {}
  },
  {
   "cell_type": "code",
   "execution_count": 12,
   "source": [
    "vo_pd = merge_visits(vo_pd,\n",
    "    remove_deleted_visits=True,\n",
    "    long_stay_threshold=timedelta(days=365),\n",
    "    long_stay_filtering='all',\n",
    "    max_timedelta=timedelta(days=2),\n",
    "    merge_different_hospitals=False,\n",
    "    merge_different_source_values=['hospitalisés', 'urgence'],\n",
    ")"
   ],
   "outputs": [],
   "metadata": {}
  },
  {
   "cell_type": "markdown",
   "source": [
    "This functions will add a `'STAY_ID'` column, corresponding to the `visit_occurrence_id` of the first visit of the stay.  \n",
    "We can check that indeed, most stays are composed of a single visit (notice that the Y-axis is in **log** scale):"
   ],
   "metadata": {}
  },
  {
   "cell_type": "code",
   "execution_count": 13,
   "source": [
    "stats = vo_pd.groupby('STAY_ID').visit_occurrence_id.count()\n",
    "_ = stats.hist(bins=20, log=True)"
   ],
   "outputs": [
    {
     "output_type": "display_data",
     "data": {
      "image/png": "[encoded data removed]",
      "text/plain": [
       "<Figure size 432x288 with 1 Axes>"
      ]
     },
     "metadata": {
      "needs_background": "light"
     }
    }
   ],
   "metadata": {}
  },
  {
   "cell_type": "markdown",
   "source": [
    "We can finally display the number of merged visits:"
   ],
   "metadata": {}
  },
  {
   "cell_type": "code",
   "execution_count": 14,
   "source": [
    "stats[stats > 1].sum()"
   ],
   "outputs": [
    {
     "output_type": "execute_result",
     "data": {
      "text/plain": [
       "42738"
      ]
     },
     "metadata": {},
     "execution_count": 14
    }
   ],
   "metadata": {}
  },
  {
   "cell_type": "markdown",
   "source": [
    "or in % of the total number of visits:"
   ],
   "metadata": {}
  },
  {
   "cell_type": "code",
   "execution_count": 15,
   "source": [
    "round(100 * stats[stats > 1].sum() / len(vo_pd),2)"
   ],
   "outputs": [
    {
     "output_type": "execute_result",
     "data": {
      "text/plain": [
       "8.69"
      ]
     },
     "metadata": {},
     "execution_count": 15
    }
   ],
   "metadata": {}
  },
  {
   "cell_type": "markdown",
   "source": [
    "## Getting stays durations\n",
    "\n",
    "This second function generates an easy-to-use *stay DataFrame*:  \n",
    "We will only focus on emergency and hospitalisation for this part, which is no problem since we only allowed merging those two types of stay (via `merge_different_source_values=['hospitalisés', 'urgence']`)"
   ],
   "metadata": {}
  },
  {
   "cell_type": "code",
   "execution_count": 34,
   "source": [
    "vo_pd = vo_pd[vo_pd.visit_source_value.isin(['hospitalisés', 'urgence'])]"
   ],
   "outputs": [],
   "metadata": {}
  },
  {
   "cell_type": "code",
   "execution_count": 35,
   "source": [
    "stays = get_stays_duration(\n",
    "    vo_pd, \n",
    "    algo='visits_date_difference', \n",
    "    missing_end_date_handling='coerce'\n",
    ")"
   ],
   "outputs": [],
   "metadata": {}
  },
  {
   "cell_type": "code",
   "execution_count": 36,
   "source": [
    "stays.head()"
   ],
   "outputs": [
    {
     "output_type": "execute_result",
     "data": {
      "text/html": [
       "<div>\n",
       "<style scoped>\n",
       "    .dataframe tbody tr th:only-of-type {\n",
       "        vertical-align: middle;\n",
       "    }\n",
       "\n",
       "    .dataframe tbody tr th {\n",
       "        vertical-align: top;\n",
       "    }\n",
       "\n",
       "    .dataframe thead th {\n",
       "        text-align: right;\n",
       "    }\n",
       "</style>\n",
       "<table border=\"1\" class=\"dataframe\">\n",
       "  <thead>\n",
       "    <tr style=\"text-align: right;\">\n",
       "      <th></th>\n",
       "      <th>person_id</th>\n",
       "      <th>t_start</th>\n",
       "      <th>t_end</th>\n",
       "      <th>STAY_DURATION</th>\n",
       "    </tr>\n",
       "    <tr>\n",
       "      <th>STAY_ID</th>\n",
       "      <th></th>\n",
       "      <th></th>\n",
       "      <th></th>\n",
       "      <th></th>\n",
       "    </tr>\n",
       "  </thead>\n",
       "  <tbody>\n",
       "    <tr>\n",
       "      <th>-2.147468e+09</th>\n",
       "      <td>-793380275</td>\n",
       "      <td>2017-08-22 18:45:00</td>\n",
       "      <td>2017-08-25 14:24:00</td>\n",
       "      <td>67.650000</td>\n",
       "    </tr>\n",
       "    <tr>\n",
       "      <th>-2.147465e+09</th>\n",
       "      <td>-1632607976</td>\n",
       "      <td>2019-12-03 12:20:00</td>\n",
       "      <td>2019-12-03 13:42:00</td>\n",
       "      <td>1.366667</td>\n",
       "    </tr>\n",
       "    <tr>\n",
       "      <th>-2.147450e+09</th>\n",
       "      <td>56307107</td>\n",
       "      <td>2019-04-23 17:18:00</td>\n",
       "      <td>2019-04-25 16:21:00</td>\n",
       "      <td>47.050000</td>\n",
       "    </tr>\n",
       "    <tr>\n",
       "      <th>-2.147433e+09</th>\n",
       "      <td>-916176344</td>\n",
       "      <td>2021-04-23 10:40:00</td>\n",
       "      <td>2021-04-23 11:50:00</td>\n",
       "      <td>1.166667</td>\n",
       "    </tr>\n",
       "    <tr>\n",
       "      <th>-2.147431e+09</th>\n",
       "      <td>1814301591</td>\n",
       "      <td>2018-06-06 14:25:00</td>\n",
       "      <td>2018-06-06 15:24:00</td>\n",
       "      <td>0.983333</td>\n",
       "    </tr>\n",
       "  </tbody>\n",
       "</table>\n",
       "</div>"
      ],
      "text/plain": [
       "                person_id             t_start               t_end  \\\n",
       "STAY_ID                                                             \n",
       "-2.147468e+09  -793380275 2017-08-22 18:45:00 2017-08-25 14:24:00   \n",
       "-2.147465e+09 -1632607976 2019-12-03 12:20:00 2019-12-03 13:42:00   \n",
       "-2.147450e+09    56307107 2019-04-23 17:18:00 2019-04-25 16:21:00   \n",
       "-2.147433e+09  -916176344 2021-04-23 10:40:00 2021-04-23 11:50:00   \n",
       "-2.147431e+09  1814301591 2018-06-06 14:25:00 2018-06-06 15:24:00   \n",
       "\n",
       "               STAY_DURATION  \n",
       "STAY_ID                       \n",
       "-2.147468e+09      67.650000  \n",
       "-2.147465e+09       1.366667  \n",
       "-2.147450e+09      47.050000  \n",
       "-2.147433e+09       1.166667  \n",
       "-2.147431e+09       0.983333  "
      ]
     },
     "metadata": {},
     "execution_count": 36
    }
   ],
   "metadata": {}
  },
  {
   "cell_type": "markdown",
   "source": [
    "Let us compare the distribution of stay/visit durations.  "
   ],
   "metadata": {}
  },
  {
   "cell_type": "code",
   "execution_count": 38,
   "source": [
    "# Extracting visit duration (in hours)\n",
    "vo_pd['VISIT_DURATION'] = substract_datetime(vo_pd['visit_end_datetime'], vo_pd['visit_start_datetime'], out='hours')\n",
    "\n",
    "# COnverting to days\n",
    "stays['STAY_DURATION'] = stays['STAY_DURATION']/24\n",
    "vo_pd['VISIT_DURATION'] = vo_pd['VISIT_DURATION']/24\n",
    "\n",
    "# Keeping only visits/stays less than a month long\n",
    "vo_pd = vo_pd[vo_pd['VISIT_DURATION'] <= 31]\n",
    "stays = stays[stays['STAY_DURATION'] <= 31]"
   ],
   "outputs": [],
   "metadata": {}
  },
  {
   "cell_type": "code",
   "execution_count": 39,
   "source": [
    "stays.STAY_DURATION.mean()"
   ],
   "outputs": [
    {
     "output_type": "execute_result",
     "data": {
      "text/plain": [
       "2.306892174348691"
      ]
     },
     "metadata": {},
     "execution_count": 39
    }
   ],
   "metadata": {}
  },
  {
   "cell_type": "code",
   "execution_count": 40,
   "source": [
    "vo_pd.VISIT_DURATION.mean()"
   ],
   "outputs": [
    {
     "output_type": "execute_result",
     "data": {
      "text/plain": [
       "2.2188916112474866"
      ]
     },
     "metadata": {},
     "execution_count": 40
    }
   ],
   "metadata": {}
  },
  {
   "cell_type": "markdown",
   "source": [
    "We will aggregate the data into bins of 1 week"
   ],
   "metadata": {}
  },
  {
   "cell_type": "code",
   "execution_count": 41,
   "source": [
    "days = list(range(1,32))\n",
    "\n",
    "stays_distribution = pd.cut(stays['STAY_DURATION'], 31, labels=days).value_counts(normalize=True).sort_index()\n",
    "visits_distribution = pd.cut(vo_pd['VISIT_DURATION'], 31, labels=days).value_counts(normalize=True).sort_index()\n",
    "\n",
    "data = pd.concat([\n",
    "    pd.DataFrame(data = {'density':stays_distribution.values, 'day':stays_distribution.index, 'type':'STAY'}),\n",
    "    pd.DataFrame(data = {'density':visits_distribution.values, 'day':visits_distribution.index, 'type':'VISIT'})\n",
    "])"
   ],
   "outputs": [],
   "metadata": {}
  },
  {
   "cell_type": "code",
   "execution_count": 42,
   "source": [
    "diff_distribution = (stays_distribution - visits_distribution).to_frame().reset_index()\n",
    "diff_distribution.columns = ['day','difference']"
   ],
   "outputs": [],
   "metadata": {}
  },
  {
   "cell_type": "code",
   "execution_count": 43,
   "source": [
    "alt.Chart(data).mark_bar(opacity=0.5).encode(\n",
    "    x=\"day:N\",\n",
    "    y=alt.Y(\"density:Q\",stack=None, scale=alt.Scale(type='log')),\n",
    "    color=alt.Color(\"type:N\", title='Type')\n",
    ").properties(\n",
    "    width=800\n",
    ")"
   ],
   "outputs": [
    {
     "output_type": "execute_result",
     "data": {
      "text/html": [
       "\n",
       "<div id=\"altair-viz-06979841a60142e78d60594f1d1b0722\"></div>\n",
       "<script type=\"text/javascript\">\n",
       "  (function(spec, embedOpt){\n",
       "    let outputDiv = document.currentScript.previousElementSibling;\n",
       "    if (outputDiv.id !== \"altair-viz-06979841a60142e78d60594f1d1b0722\") {\n",
       "      outputDiv = document.getElementById(\"altair-viz-06979841a60142e78d60594f1d1b0722\");\n",
       "    }\n",
       "    const paths = {\n",
       "      \"vega\": \"https://cdn.jsdelivr.net/npm//vega@5?noext\",\n",
       "      \"vega-lib\": \"https://cdn.jsdelivr.net/npm//vega-lib?noext\",\n",
       "      \"vega-lite\": \"https://cdn.jsdelivr.net/npm//vega-lite@4.8.1?noext\",\n",
       "      \"vega-embed\": \"https://cdn.jsdelivr.net/npm//vega-embed@6?noext\",\n",
       "    };\n",
       "\n",
       "    function loadScript(lib) {\n",
       "      return new Promise(function(resolve, reject) {\n",
       "        var s = document.createElement('script');\n",
       "        s.src = paths[lib];\n",
       "        s.async = true;\n",
       "        s.onload = () => resolve(paths[lib]);\n",
       "        s.onerror = () => reject(`Error loading script: ${paths[lib]}`);\n",
       "        document.getElementsByTagName(\"head\")[0].appendChild(s);\n",
       "      });\n",
       "    }\n",
       "\n",
       "    function showError(err) {\n",
       "      outputDiv.innerHTML = `<div class=\"error\" style=\"color:red;\">${err}</div>`;\n",
       "      throw err;\n",
       "    }\n",
       "\n",
       "    function displayChart(vegaEmbed) {\n",
       "      vegaEmbed(outputDiv, spec, embedOpt)\n",
       "        .catch(err => showError(`Javascript Error: ${err.message}<br>This usually means there's a typo in your chart specification. See the javascript console for the full traceback.`));\n",
       "    }\n",
       "\n",
       "    if(typeof define === \"function\" && define.amd) {\n",
       "      requirejs.config({paths});\n",
       "      require([\"vega-embed\"], displayChart, err => showError(`Error loading script: ${err.message}`));\n",
       "    } else if (typeof vegaEmbed === \"function\") {\n",
       "      displayChart(vegaEmbed);\n",
       "    } else {\n",
       "      loadScript(\"vega\")\n",
       "        .then(() => loadScript(\"vega-lite\"))\n",
       "        .then(() => loadScript(\"vega-embed\"))\n",
       "        .catch(showError)\n",
       "        .then(() => displayChart(vegaEmbed));\n",
       "    }\n",
       "  })({\"config\": {\"view\": {\"continuousWidth\": 400, \"continuousHeight\": 300}}, \"data\": {\"name\": \"data-b0c53aa5acb801ec3d3cb4990609769b\"}, \"mark\": {\"type\": \"bar\", \"opacity\": 0.5}, \"encoding\": {\"color\": {\"type\": \"nominal\", \"field\": \"type\", \"title\": \"Type\"}, \"x\": {\"type\": \"nominal\", \"field\": \"day\"}, \"y\": {\"type\": \"quantitative\", \"field\": \"density\", \"scale\": {\"type\": \"log\"}, \"stack\": null}}, \"width\": 800, \"$schema\": \"https://vega.github.io/schema/vega-lite/v4.8.1.json\", \"datasets\": {\"data-b0c53aa5acb801ec3d3cb4990609769b\": [{\"density\": 0.6257372293084775, \"day\": 1, \"type\": \"STAY\"}, {\"density\": 0.08317573975454683, \"day\": 2, \"type\": \"STAY\"}, {\"density\": 0.060734788244734876, \"day\": 3, \"type\": \"STAY\"}, {\"density\": 0.05161026032401614, \"day\": 4, \"type\": \"STAY\"}, {\"density\": 0.04074612375912593, \"day\": 5, \"type\": \"STAY\"}, {\"density\": 0.024679996184084264, \"day\": 6, \"type\": \"STAY\"}, {\"density\": 0.01920303477533796, \"day\": 7, \"type\": \"STAY\"}, {\"density\": 0.016015622807952816, \"day\": 8, \"type\": \"STAY\"}, {\"density\": 0.010914641331979058, \"day\": 9, \"type\": \"STAY\"}, {\"density\": 0.008630703531405548, \"day\": 10, \"type\": \"STAY\"}, {\"density\": 0.007272686460794271, \"day\": 11, \"type\": \"STAY\"}, {\"density\": 0.005869776263881797, \"day\": 12, \"type\": \"STAY\"}, {\"density\": 0.005145874602274959, \"day\": 13, \"type\": \"STAY\"}, {\"density\": 0.005173932806213209, \"day\": 14, \"type\": \"STAY\"}, {\"density\": 0.004595933805085269, \"day\": 15, \"type\": \"STAY\"}, {\"density\": 0.003849585580327832, \"day\": 16, \"type\": \"STAY\"}, {\"density\": 0.0031593537634468944, \"day\": 17, \"type\": \"STAY\"}, {\"density\": 0.002676752655709003, \"day\": 18, \"type\": \"STAY\"}, {\"density\": 0.0025364616360177552, \"day\": 19, \"type\": \"STAY\"}, {\"density\": 0.0022895494413611595, \"day\": 20, \"type\": \"STAY\"}, {\"density\": 0.002328830926874709, \"day\": 21, \"type\": \"STAY\"}, {\"density\": 0.002227821392697011, \"day\": 22, \"type\": \"STAY\"}, {\"density\": 0.0016554340323567207, \"day\": 23, \"type\": \"STAY\"}, {\"density\": 0.0014926964495148736, \"day\": 24, \"type\": \"STAY\"}, {\"density\": 0.0011952794877694288, \"day\": 25, \"type\": \"STAY\"}, {\"density\": 0.0012289493324953284, \"day\": 26, \"type\": \"STAY\"}, {\"density\": 0.0011672212838311794, \"day\": 27, \"type\": \"STAY\"}, {\"density\": 0.0014926964495148736, \"day\": 28, \"type\": \"STAY\"}, {\"density\": 0.0012233376917076785, \"day\": 29, \"type\": \"STAY\"}, {\"density\": 0.001015706982564632, \"day\": 30, \"type\": \"STAY\"}, {\"density\": 0.0009539789339004832, \"day\": 31, \"type\": \"STAY\"}, {\"density\": 0.65274397841082, \"day\": 1, \"type\": \"VISIT\"}, {\"density\": 0.07284227492272537, \"day\": 2, \"type\": \"VISIT\"}, {\"density\": 0.05349578236918982, \"day\": 3, \"type\": \"VISIT\"}, {\"density\": 0.04853854188205479, \"day\": 4, \"type\": \"VISIT\"}, {\"density\": 0.038677079522620395, \"day\": 5, \"type\": \"VISIT\"}, {\"density\": 0.02326456818989147, \"day\": 6, \"type\": \"VISIT\"}, {\"density\": 0.018222497919019368, \"day\": 7, \"type\": \"VISIT\"}, {\"density\": 0.015560963454268793, \"day\": 8, \"type\": \"VISIT\"}, {\"density\": 0.010550704352298091, \"day\": 9, \"type\": \"VISIT\"}, {\"density\": 0.008281507637331468, \"day\": 10, \"type\": \"VISIT\"}, {\"density\": 0.006993155296824715, \"day\": 11, \"type\": \"VISIT\"}, {\"density\": 0.005810840185989301, \"day\": 12, \"type\": \"VISIT\"}, {\"density\": 0.005100390747191339, \"day\": 13, \"type\": \"VISIT\"}, {\"density\": 0.005206427976862676, \"day\": 14, \"type\": \"VISIT\"}, {\"density\": 0.0046550343825717206, \"day\": 15, \"type\": \"VISIT\"}, {\"density\": 0.0038226421296517206, \"day\": 16, \"type\": \"VISIT\"}, {\"density\": 0.0030750796604687904, \"day\": 17, \"type\": \"VISIT\"}, {\"density\": 0.0026297232958491725, \"day\": 18, \"type\": \"VISIT\"}, {\"density\": 0.0024812711743093, \"day\": 19, \"type\": \"VISIT\"}, {\"density\": 0.0022373855460652236, \"day\": 20, \"type\": \"VISIT\"}, {\"density\": 0.0023169134683187266, \"day\": 21, \"type\": \"VISIT\"}, {\"density\": 0.0021419520393610196, \"day\": 22, \"type\": \"VISIT\"}, {\"density\": 0.0015852565835864972, \"day\": 23, \"type\": \"VISIT\"}, {\"density\": 0.0014951249383658603, \"day\": 24, \"type\": \"VISIT\"}, {\"density\": 0.001245937448638217, \"day\": 25, \"type\": \"VISIT\"}, {\"density\": 0.0011345983574833124, \"day\": 26, \"type\": \"VISIT\"}, {\"density\": 0.0012194281412203824, \"day\": 27, \"type\": \"VISIT\"}, {\"density\": 0.0015481435532015292, \"day\": 28, \"type\": \"VISIT\"}, {\"density\": 0.001245937448638217, \"day\": 29, \"type\": \"VISIT\"}, {\"density\": 0.0009808443744598729, \"day\": 30, \"type\": \"VISIT\"}, {\"density\": 0.0008960145907228028, \"day\": 31, \"type\": \"VISIT\"}]}}, {\"mode\": \"vega-lite\"});\n",
       "</script>"
      ],
      "text/plain": [
       "alt.Chart(...)"
      ]
     },
     "metadata": {},
     "execution_count": 43
    }
   ],
   "metadata": {}
  },
  {
   "cell_type": "markdown",
   "source": [
    "Plotting the difference between those two distributions shows that\n",
    "- Some short visits ( < 1 week ) seems to be merged into longer stays\n",
    "- This cause stays of duration ~ N weeks to be more frequent than visits of duration ~ N weeks\n"
   ],
   "metadata": {}
  },
  {
   "cell_type": "code",
   "execution_count": 45,
   "source": [
    "alt.Chart(diff_distribution).mark_bar().encode(\n",
    "    x=alt.X(\"day:N\", title=\"Day\"),\n",
    "    y=alt.Y(\"difference:Q\", title='Difference between stay and visit distribution')\n",
    ").properties(\n",
    "    width=800\n",
    ")"
   ],
   "outputs": [
    {
     "output_type": "execute_result",
     "data": {
      "text/html": [
       "\n",
       "<div id=\"altair-viz-bfc21174f79b41678f31cbc2a2bdb70d\"></div>\n",
       "<script type=\"text/javascript\">\n",
       "  (function(spec, embedOpt){\n",
       "    let outputDiv = document.currentScript.previousElementSibling;\n",
       "    if (outputDiv.id !== \"altair-viz-bfc21174f79b41678f31cbc2a2bdb70d\") {\n",
       "      outputDiv = document.getElementById(\"altair-viz-bfc21174f79b41678f31cbc2a2bdb70d\");\n",
       "    }\n",
       "    const paths = {\n",
       "      \"vega\": \"https://cdn.jsdelivr.net/npm//vega@5?noext\",\n",
       "      \"vega-lib\": \"https://cdn.jsdelivr.net/npm//vega-lib?noext\",\n",
       "      \"vega-lite\": \"https://cdn.jsdelivr.net/npm//vega-lite@4.8.1?noext\",\n",
       "      \"vega-embed\": \"https://cdn.jsdelivr.net/npm//vega-embed@6?noext\",\n",
       "    };\n",
       "\n",
       "    function loadScript(lib) {\n",
       "      return new Promise(function(resolve, reject) {\n",
       "        var s = document.createElement('script');\n",
       "        s.src = paths[lib];\n",
       "        s.async = true;\n",
       "        s.onload = () => resolve(paths[lib]);\n",
       "        s.onerror = () => reject(`Error loading script: ${paths[lib]}`);\n",
       "        document.getElementsByTagName(\"head\")[0].appendChild(s);\n",
       "      });\n",
       "    }\n",
       "\n",
       "    function showError(err) {\n",
       "      outputDiv.innerHTML = `<div class=\"error\" style=\"color:red;\">${err}</div>`;\n",
       "      throw err;\n",
       "    }\n",
       "\n",
       "    function displayChart(vegaEmbed) {\n",
       "      vegaEmbed(outputDiv, spec, embedOpt)\n",
       "        .catch(err => showError(`Javascript Error: ${err.message}<br>This usually means there's a typo in your chart specification. See the javascript console for the full traceback.`));\n",
       "    }\n",
       "\n",
       "    if(typeof define === \"function\" && define.amd) {\n",
       "      requirejs.config({paths});\n",
       "      require([\"vega-embed\"], displayChart, err => showError(`Error loading script: ${err.message}`));\n",
       "    } else if (typeof vegaEmbed === \"function\") {\n",
       "      displayChart(vegaEmbed);\n",
       "    } else {\n",
       "      loadScript(\"vega\")\n",
       "        .then(() => loadScript(\"vega-lite\"))\n",
       "        .then(() => loadScript(\"vega-embed\"))\n",
       "        .catch(showError)\n",
       "        .then(() => displayChart(vegaEmbed));\n",
       "    }\n",
       "  })({\"config\": {\"view\": {\"continuousWidth\": 400, \"continuousHeight\": 300}}, \"data\": {\"name\": \"data-c73fdd6af4ddb3276ed1e9ff4cf51303\"}, \"mark\": \"bar\", \"encoding\": {\"x\": {\"type\": \"nominal\", \"field\": \"day\", \"title\": \"Day\"}, \"y\": {\"type\": \"quantitative\", \"field\": \"difference\", \"title\": \"Difference between stay and visit distribution\"}}, \"width\": 800, \"$schema\": \"https://vega.github.io/schema/vega-lite/v4.8.1.json\", \"datasets\": {\"data-c73fdd6af4ddb3276ed1e9ff4cf51303\": [{\"day\": 1, \"difference\": -0.027006749102342464}, {\"day\": 2, \"difference\": 0.01033346483182146}, {\"day\": 3, \"difference\": 0.007239005875545053}, {\"day\": 4, \"difference\": 0.0030717184419613505}, {\"day\": 5, \"difference\": 0.0020690442365055364}, {\"day\": 6, \"difference\": 0.0014154279941927944}, {\"day\": 7, \"difference\": 0.000980536856318593}, {\"day\": 8, \"difference\": 0.00045465935368402266}, {\"day\": 9, \"difference\": 0.000363936979680967}, {\"day\": 10, \"difference\": 0.00034919589407408046}, {\"day\": 11, \"difference\": 0.0002795311639695562}, {\"day\": 12, \"difference\": 5.893607789249616e-05}, {\"day\": 13, \"difference\": 4.548385508362004e-05}, {\"day\": 14, \"difference\": -3.249517064946722e-05}, {\"day\": 15, \"difference\": -5.910057748645132e-05}, {\"day\": 16, \"difference\": 2.694345067611164e-05}, {\"day\": 17, \"difference\": 8.427410297810398e-05}, {\"day\": 18, \"difference\": 4.7029359859830384e-05}, {\"day\": 19, \"difference\": 5.519046170845542e-05}, {\"day\": 20, \"difference\": 5.216389529593595e-05}, {\"day\": 21, \"difference\": 1.1917458555982426e-05}, {\"day\": 22, \"difference\": 8.586935333599124e-05}, {\"day\": 23, \"difference\": 7.01774487702235e-05}, {\"day\": 24, \"difference\": -2.428488850986666e-06}, {\"day\": 25, \"difference\": -5.065796086878814e-05}, {\"day\": 26, \"difference\": 9.435097501201599e-05}, {\"day\": 27, \"difference\": -5.220685738920299e-05}, {\"day\": 28, \"difference\": -5.5447103686655534e-05}, {\"day\": 29, \"difference\": -2.259975693053853e-05}, {\"day\": 30, \"difference\": 3.4862608104759127e-05}, {\"day\": 31, \"difference\": 5.796434317768037e-05}]}}, {\"mode\": \"vega-lite\"});\n",
       "</script>"
      ],
      "text/plain": [
       "alt.Chart(...)"
      ]
     },
     "metadata": {},
     "execution_count": 45
    }
   ],
   "metadata": {}
  },
  {
   "cell_type": "code",
   "execution_count": null,
   "source": [],
   "outputs": [],
   "metadata": {}
  }
 ],
 "metadata": {
  "kernelspec": {
   "display_name": "scikit",
   "language": "python",
   "name": "scikit"
  },
  "language_info": {
   "codemirror_mode": {
    "name": "ipython",
    "version": 3
   },
   "file_extension": ".py",
   "mimetype": "text/x-python",
   "name": "python",
   "nbconvert_exporter": "python",
   "pygments_lexer": "ipython3",
   "version": "3.7.12"
  }
 },
 "nbformat": 4,
 "nbformat_minor": 5
}
