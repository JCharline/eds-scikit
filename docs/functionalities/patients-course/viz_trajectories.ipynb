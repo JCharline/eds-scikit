{
 "cells": [
  {
   "cell_type": "code",
   "execution_count": 1,
   "metadata": {},
   "outputs": [],
   "source": [
    "%reload_ext autoreload\n",
    "%autoreload 2"
   ]
  },
  {
   "attachments": {},
   "cell_type": "markdown",
   "metadata": {},
   "source": [
    "# Visualizing individual trajectories"
   ]
  },
  {
   "attachments": {},
   "cell_type": "markdown",
   "metadata": {},
   "source": [
    "When studying sequences of events (e.g care trajectories, drug sequences, ...), it might be useful to visualize individual sequences. To that end, we provide the `viz_trajectories` function to plot individual sequences given an events dataframe."
   ]
  },
  {
   "cell_type": "code",
   "execution_count": 4,
   "metadata": {},
   "outputs": [],
   "source": [
    "from eds_scikit.plot.viz_trajectories import plot_trajectories\n",
    "from eds_scikit.datasets.synthetic.event_sequences import load_event_sequences"
   ]
  },
  {
   "attachments": {},
   "cell_type": "markdown",
   "metadata": {},
   "source": [
    "## Create synthetic dataset"
   ]
  },
  {
   "cell_type": "code",
   "execution_count": 5,
   "metadata": {},
   "outputs": [],
   "source": [
    "df_events = load_event_sequences()"
   ]
  },
  {
   "attachments": {},
   "cell_type": "markdown",
   "metadata": {},
   "source": [
    "The `df_events` dataset contains occurrences of 12 events, derived from 7 events' families (\"A\", \"B\", \"C\", \"D\", \"E\", \"F\", \"G).  \n",
    "Events can be both one-time and continuous.  \n",
    "An `index_date` is also provided and refers to the inclusion date of each patient in the cohort."
   ]
  },
  {
   "cell_type": "code",
   "execution_count": 6,
   "metadata": {},
   "outputs": [
    {
     "data": {
      "text/html": [
       "<div>\n",
       "<style scoped>\n",
       "    .dataframe tbody tr th:only-of-type {\n",
       "        vertical-align: middle;\n",
       "    }\n",
       "\n",
       "    .dataframe tbody tr th {\n",
       "        vertical-align: top;\n",
       "    }\n",
       "\n",
       "    .dataframe thead th {\n",
       "        text-align: right;\n",
       "    }\n",
       "</style>\n",
       "<table border=\"1\" class=\"dataframe\">\n",
       "  <thead>\n",
       "    <tr style=\"text-align: right;\">\n",
       "      <th></th>\n",
       "      <th>person_id</th>\n",
       "      <th>event_family</th>\n",
       "      <th>event</th>\n",
       "      <th>event_start_datetime</th>\n",
       "      <th>event_end_datetime</th>\n",
       "      <th>index_date</th>\n",
       "    </tr>\n",
       "  </thead>\n",
       "  <tbody>\n",
       "    <tr>\n",
       "      <th>0</th>\n",
       "      <td>1</td>\n",
       "      <td>A</td>\n",
       "      <td>a1</td>\n",
       "      <td>2020-01-01</td>\n",
       "      <td>2020-01-02</td>\n",
       "      <td>2020-01-01</td>\n",
       "    </tr>\n",
       "    <tr>\n",
       "      <th>1</th>\n",
       "      <td>1</td>\n",
       "      <td>A</td>\n",
       "      <td>a2</td>\n",
       "      <td>2020-01-03</td>\n",
       "      <td>2020-01-04</td>\n",
       "      <td>2020-01-01</td>\n",
       "    </tr>\n",
       "    <tr>\n",
       "      <th>2</th>\n",
       "      <td>1</td>\n",
       "      <td>B</td>\n",
       "      <td>b1</td>\n",
       "      <td>2020-01-03</td>\n",
       "      <td>2020-01-06</td>\n",
       "      <td>2020-01-01</td>\n",
       "    </tr>\n",
       "    <tr>\n",
       "      <th>3</th>\n",
       "      <td>1</td>\n",
       "      <td>C</td>\n",
       "      <td>c1</td>\n",
       "      <td>2020-01-05</td>\n",
       "      <td>NaT</td>\n",
       "      <td>2020-01-01</td>\n",
       "    </tr>\n",
       "    <tr>\n",
       "      <th>4</th>\n",
       "      <td>1</td>\n",
       "      <td>C</td>\n",
       "      <td>c2</td>\n",
       "      <td>2020-01-06</td>\n",
       "      <td>2020-01-08</td>\n",
       "      <td>2020-01-01</td>\n",
       "    </tr>\n",
       "  </tbody>\n",
       "</table>\n",
       "</div>"
      ],
      "text/plain": [
       "   person_id event_family event event_start_datetime event_end_datetime  \\\n",
       "0          1            A    a1           2020-01-01         2020-01-02   \n",
       "1          1            A    a2           2020-01-03         2020-01-04   \n",
       "2          1            B    b1           2020-01-03         2020-01-06   \n",
       "3          1            C    c1           2020-01-05                NaT   \n",
       "4          1            C    c2           2020-01-06         2020-01-08   \n",
       "\n",
       "  index_date  \n",
       "0 2020-01-01  \n",
       "1 2020-01-01  \n",
       "2 2020-01-01  \n",
       "3 2020-01-01  \n",
       "4 2020-01-01  "
      ]
     },
     "execution_count": 6,
     "metadata": {},
     "output_type": "execute_result"
    }
   ],
   "source": [
    "df_events.head()"
   ]
  },
  {
   "attachments": {},
   "cell_type": "markdown",
   "metadata": {},
   "source": [
    "## Plot individual sequences"
   ]
  },
  {
   "attachments": {},
   "cell_type": "markdown",
   "metadata": {},
   "source": [
    "Sequences can be plotted as-is, by providing the events dataframe."
   ]
  },
  {
   "cell_type": "code",
   "execution_count": 7,
   "metadata": {},
   "outputs": [
    {
     "data": {
      "text/html": [
       "\n",
       "<div id=\"altair-viz-ecce906100cd472888fce9912e6c7c90\"></div>\n",
       "<script type=\"text/javascript\">\n",
       "  var VEGA_DEBUG = (typeof VEGA_DEBUG == \"undefined\") ? {} : VEGA_DEBUG;\n",
       "  (function(spec, embedOpt){\n",
       "    let outputDiv = document.currentScript.previousElementSibling;\n",
       "    if (outputDiv.id !== \"altair-viz-ecce906100cd472888fce9912e6c7c90\") {\n",
       "      outputDiv = document.getElementById(\"altair-viz-ecce906100cd472888fce9912e6c7c90\");\n",
       "    }\n",
       "    const paths = {\n",
       "      \"vega\": \"https://cdn.jsdelivr.net/npm//vega@5?noext\",\n",
       "      \"vega-lib\": \"https://cdn.jsdelivr.net/npm//vega-lib?noext\",\n",
       "      \"vega-lite\": \"https://cdn.jsdelivr.net/npm//vega-lite@4.17.0?noext\",\n",
       "      \"vega-embed\": \"https://cdn.jsdelivr.net/npm//vega-embed@6?noext\",\n",
       "    };\n",
       "\n",
       "    function maybeLoadScript(lib, version) {\n",
       "      var key = `${lib.replace(\"-\", \"\")}_version`;\n",
       "      return (VEGA_DEBUG[key] == version) ?\n",
       "        Promise.resolve(paths[lib]) :\n",
       "        new Promise(function(resolve, reject) {\n",
       "          var s = document.createElement('script');\n",
       "          document.getElementsByTagName(\"head\")[0].appendChild(s);\n",
       "          s.async = true;\n",
       "          s.onload = () => {\n",
       "            VEGA_DEBUG[key] = version;\n",
       "            return resolve(paths[lib]);\n",
       "          };\n",
       "          s.onerror = () => reject(`Error loading script: ${paths[lib]}`);\n",
       "          s.src = paths[lib];\n",
       "        });\n",
       "    }\n",
       "\n",
       "    function showError(err) {\n",
       "      outputDiv.innerHTML = `<div class=\"error\" style=\"color:red;\">${err}</div>`;\n",
       "      throw err;\n",
       "    }\n",
       "\n",
       "    function displayChart(vegaEmbed) {\n",
       "      vegaEmbed(outputDiv, spec, embedOpt)\n",
       "        .catch(err => showError(`Javascript Error: ${err.message}<br>This usually means there's a typo in your chart specification. See the javascript console for the full traceback.`));\n",
       "    }\n",
       "\n",
       "    if(typeof define === \"function\" && define.amd) {\n",
       "      requirejs.config({paths});\n",
       "      require([\"vega-embed\"], displayChart, err => showError(`Error loading script: ${err.message}`));\n",
       "    } else {\n",
       "      maybeLoadScript(\"vega\", \"5\")\n",
       "        .then(() => maybeLoadScript(\"vega-lite\", \"4.17.0\"))\n",
       "        .then(() => maybeLoadScript(\"vega-embed\", \"6\"))\n",
       "        .catch(showError)\n",
       "        .then(() => displayChart(vegaEmbed));\n",
       "    }\n",
       "  })({\"config\": {\"view\": {\"continuousWidth\": 400, \"continuousHeight\": 300}, \"axisY\": {\"disable\": true}, \"legend\": {\"labelFontSize\": 13, \"symbolSize\": 150, \"titleFontSize\": 15}}, \"vconcat\": [{\"layer\": [{\"mark\": {\"type\": \"point\", \"cursor\": \"pointer\", \"filled\": true, \"size\": 400}, \"encoding\": {\"color\": {\"field\": \"dim_label\", \"scale\": {\"domain\": [\"a1\", \"a2\", \"b1\", \"c1\", \"d1\", \"c2\", \"d2\", \"e1\", \"f1\", \"g1\", \"a3\", \"c3\"], \"range\": [\"rgb(197, 215, 20)\", \"rgb(132, 248, 207)\", \"rgb(155, 244, 183)\", \"rgb(111, 71, 144)\", \"rgb(71, 48, 128)\", \"rgb(75, 158, 50)\", \"rgb(37, 169, 241)\", \"rgb(51, 181, 222)\", \"rgb(161, 104, 244)\", \"rgb(226, 133, 31)\", \"rgb(7, 47, 204)\", \"rgb(0, 252, 170)\"]}, \"title\": \"Event type\", \"type\": \"ordinal\"}, \"tooltip\": [{\"field\": \"event\", \"type\": \"nominal\"}, {\"field\": \"event_start_datetime\", \"type\": \"temporal\"}], \"x\": {\"field\": \"event_start_datetime\", \"type\": \"temporal\"}, \"y\": {\"field\": \"dim_id\", \"title\": \"\", \"type\": \"ordinal\"}}, \"transform\": [{\"filter\": {\"not\": {\"field\": \"event_end_datetime\", \"valid\": true}}}]}, {\"mark\": {\"type\": \"bar\", \"cornerRadius\": 10.0, \"cursor\": \"pointer\", \"filled\": true, \"height\": 20}, \"encoding\": {\"color\": {\"field\": \"dim_label\", \"scale\": {\"domain\": [\"a1\", \"a2\", \"b1\", \"c1\", \"d1\", \"c2\", \"d2\", \"e1\", \"f1\", \"g1\", \"a3\", \"c3\"], \"range\": [\"rgb(197, 215, 20)\", \"rgb(132, 248, 207)\", \"rgb(155, 244, 183)\", \"rgb(111, 71, 144)\", \"rgb(71, 48, 128)\", \"rgb(75, 158, 50)\", \"rgb(37, 169, 241)\", \"rgb(51, 181, 222)\", \"rgb(161, 104, 244)\", \"rgb(226, 133, 31)\", \"rgb(7, 47, 204)\", \"rgb(0, 252, 170)\"]}, \"title\": \"Event type\", \"type\": \"ordinal\"}, \"tooltip\": [{\"field\": \"event\", \"type\": \"nominal\"}, {\"field\": \"event_start_datetime\", \"type\": \"temporal\"}, {\"field\": \"event_end_datetime\", \"type\": \"temporal\"}], \"x\": {\"field\": \"event_start_datetime\", \"type\": \"temporal\"}, \"x2\": {\"field\": \"event_end_datetime\"}, \"y\": {\"field\": \"dim_id\", \"title\": \"\", \"type\": \"ordinal\"}}, \"transform\": [{\"filter\": {\"field\": \"event_end_datetime\", \"valid\": true}}]}], \"height\": 200, \"title\": \"Sequence of patient 1\", \"transform\": [{\"filter\": \"(datum.person_id === 1)\"}], \"width\": 500}, {\"layer\": [{\"mark\": {\"type\": \"point\", \"cursor\": \"pointer\", \"filled\": true, \"size\": 400}, \"encoding\": {\"color\": {\"field\": \"dim_label\", \"scale\": {\"domain\": [\"a1\", \"a2\", \"b1\", \"c1\", \"d1\", \"c2\", \"d2\", \"e1\", \"f1\", \"g1\", \"a3\", \"c3\"], \"range\": [\"rgb(197, 215, 20)\", \"rgb(132, 248, 207)\", \"rgb(155, 244, 183)\", \"rgb(111, 71, 144)\", \"rgb(71, 48, 128)\", \"rgb(75, 158, 50)\", \"rgb(37, 169, 241)\", \"rgb(51, 181, 222)\", \"rgb(161, 104, 244)\", \"rgb(226, 133, 31)\", \"rgb(7, 47, 204)\", \"rgb(0, 252, 170)\"]}, \"title\": \"Event type\", \"type\": \"ordinal\"}, \"tooltip\": [{\"field\": \"event\", \"type\": \"nominal\"}, {\"field\": \"event_start_datetime\", \"type\": \"temporal\"}], \"x\": {\"field\": \"event_start_datetime\", \"type\": \"temporal\"}, \"y\": {\"field\": \"dim_id\", \"title\": \"\", \"type\": \"ordinal\"}}, \"transform\": [{\"filter\": {\"not\": {\"field\": \"event_end_datetime\", \"valid\": true}}}]}, {\"mark\": {\"type\": \"bar\", \"cornerRadius\": 10.0, \"cursor\": \"pointer\", \"filled\": true, \"height\": 20}, \"encoding\": {\"color\": {\"field\": \"dim_label\", \"scale\": {\"domain\": [\"a1\", \"a2\", \"b1\", \"c1\", \"d1\", \"c2\", \"d2\", \"e1\", \"f1\", \"g1\", \"a3\", \"c3\"], \"range\": [\"rgb(197, 215, 20)\", \"rgb(132, 248, 207)\", \"rgb(155, 244, 183)\", \"rgb(111, 71, 144)\", \"rgb(71, 48, 128)\", \"rgb(75, 158, 50)\", \"rgb(37, 169, 241)\", \"rgb(51, 181, 222)\", \"rgb(161, 104, 244)\", \"rgb(226, 133, 31)\", \"rgb(7, 47, 204)\", \"rgb(0, 252, 170)\"]}, \"title\": \"Event type\", \"type\": \"ordinal\"}, \"tooltip\": [{\"field\": \"event\", \"type\": \"nominal\"}, {\"field\": \"event_start_datetime\", \"type\": \"temporal\"}, {\"field\": \"event_end_datetime\", \"type\": \"temporal\"}], \"x\": {\"field\": \"event_start_datetime\", \"type\": \"temporal\"}, \"x2\": {\"field\": \"event_end_datetime\"}, \"y\": {\"field\": \"dim_id\", \"title\": \"\", \"type\": \"ordinal\"}}, \"transform\": [{\"filter\": {\"field\": \"event_end_datetime\", \"valid\": true}}]}], \"height\": 200, \"title\": \"Sequence of patient 2\", \"transform\": [{\"filter\": \"(datum.person_id === 2)\"}], \"width\": 500}], \"data\": {\"name\": \"data-b9158925e7e0f40285a5809a802777a2\"}, \"$schema\": \"https://vega.github.io/schema/vega-lite/v4.17.0.json\", \"datasets\": {\"data-b9158925e7e0f40285a5809a802777a2\": [{\"person_id\": 1, \"event_family\": \"A\", \"event\": \"a1\", \"event_start_datetime\": \"2020-01-01T00:00:00\", \"event_end_datetime\": \"2020-01-02T00:00:00\", \"index_date\": \"2020-01-01T00:00:00\", \"dim_id\": 0, \"dim_label\": \"a1\"}, {\"person_id\": 1, \"event_family\": \"A\", \"event\": \"a2\", \"event_start_datetime\": \"2020-01-03T00:00:00\", \"event_end_datetime\": \"2020-01-04T00:00:00\", \"index_date\": \"2020-01-01T00:00:00\", \"dim_id\": 1, \"dim_label\": \"a2\"}, {\"person_id\": 1, \"event_family\": \"B\", \"event\": \"b1\", \"event_start_datetime\": \"2020-01-03T00:00:00\", \"event_end_datetime\": \"2020-01-06T00:00:00\", \"index_date\": \"2020-01-01T00:00:00\", \"dim_id\": 2, \"dim_label\": \"b1\"}, {\"person_id\": 1, \"event_family\": \"C\", \"event\": \"c1\", \"event_start_datetime\": \"2020-01-05T00:00:00\", \"event_end_datetime\": \"\", \"index_date\": \"2020-01-01T00:00:00\", \"dim_id\": 3, \"dim_label\": \"c1\"}, {\"person_id\": 1, \"event_family\": \"D\", \"event\": \"d1\", \"event_start_datetime\": \"2020-01-05T00:00:00\", \"event_end_datetime\": \"2020-01-08T00:00:00\", \"index_date\": \"2020-01-01T00:00:00\", \"dim_id\": 4, \"dim_label\": \"d1\"}, {\"person_id\": 1, \"event_family\": \"C\", \"event\": \"c2\", \"event_start_datetime\": \"2020-01-06T00:00:00\", \"event_end_datetime\": \"2020-01-08T00:00:00\", \"index_date\": \"2020-01-01T00:00:00\", \"dim_id\": 5, \"dim_label\": \"c2\"}, {\"person_id\": 1, \"event_family\": \"D\", \"event\": \"d1\", \"event_start_datetime\": \"2020-01-06T00:00:00\", \"event_end_datetime\": \"2020-01-09T00:00:00\", \"index_date\": \"2020-01-01T00:00:00\", \"dim_id\": 4, \"dim_label\": \"d1\"}, {\"person_id\": 1, \"event_family\": \"D\", \"event\": \"d2\", \"event_start_datetime\": \"2020-01-07T00:00:00\", \"event_end_datetime\": \"2020-01-09T00:00:00\", \"index_date\": \"2020-01-01T00:00:00\", \"dim_id\": 6, \"dim_label\": \"d2\"}, {\"person_id\": 1, \"event_family\": \"E\", \"event\": \"e1\", \"event_start_datetime\": \"2020-01-11T00:00:00\", \"event_end_datetime\": \"\", \"index_date\": \"2020-01-01T00:00:00\", \"dim_id\": 7, \"dim_label\": \"e1\"}, {\"person_id\": 1, \"event_family\": \"F\", \"event\": \"f1\", \"event_start_datetime\": \"2020-01-12T00:00:00\", \"event_end_datetime\": \"2020-01-13T00:00:00\", \"index_date\": \"2020-01-01T00:00:00\", \"dim_id\": 8, \"dim_label\": \"f1\"}, {\"person_id\": 1, \"event_family\": \"G\", \"event\": \"g1\", \"event_start_datetime\": \"2020-01-15T00:00:00\", \"event_end_datetime\": \"2020-01-17T00:00:00\", \"index_date\": \"2020-01-01T00:00:00\", \"dim_id\": 9, \"dim_label\": \"g1\"}, {\"person_id\": 1, \"event_family\": \"G\", \"event\": \"g1\", \"event_start_datetime\": \"2020-01-17T00:00:00\", \"event_end_datetime\": \"2020-01-17T00:00:00\", \"index_date\": \"2020-01-01T00:00:00\", \"dim_id\": 9, \"dim_label\": \"g1\"}, {\"person_id\": 2, \"event_family\": \"A\", \"event\": \"a3\", \"event_start_datetime\": \"2020-01-01T00:00:00\", \"event_end_datetime\": \"2020-01-08T00:00:00\", \"index_date\": \"2020-01-01T00:00:00\", \"dim_id\": 10, \"dim_label\": \"a3\"}, {\"person_id\": 2, \"event_family\": \"B\", \"event\": \"b1\", \"event_start_datetime\": \"2020-01-03T00:00:00\", \"event_end_datetime\": \"2020-01-06T00:00:00\", \"index_date\": \"2020-01-01T00:00:00\", \"dim_id\": 2, \"dim_label\": \"b1\"}, {\"person_id\": 2, \"event_family\": \"C\", \"event\": \"c3\", \"event_start_datetime\": \"2020-01-05T00:00:00\", \"event_end_datetime\": \"2020-01-07T00:00:00\", \"index_date\": \"2020-01-01T00:00:00\", \"dim_id\": 11, \"dim_label\": \"c3\"}, {\"person_id\": 2, \"event_family\": \"C\", \"event\": \"c3\", \"event_start_datetime\": \"2020-01-06T00:00:00\", \"event_end_datetime\": \"2020-01-09T00:00:00\", \"index_date\": \"2020-01-01T00:00:00\", \"dim_id\": 11, \"dim_label\": \"c3\"}, {\"person_id\": 2, \"event_family\": \"C\", \"event\": \"c3\", \"event_start_datetime\": \"2020-01-08T00:00:00\", \"event_end_datetime\": \"2020-01-10T00:00:00\", \"index_date\": \"2020-01-01T00:00:00\", \"dim_id\": 11, \"dim_label\": \"c3\"}, {\"person_id\": 2, \"event_family\": \"D\", \"event\": \"d1\", \"event_start_datetime\": \"2020-01-10T00:00:00\", \"event_end_datetime\": \"2020-01-12T00:00:00\", \"index_date\": \"2020-01-01T00:00:00\", \"dim_id\": 4, \"dim_label\": \"d1\"}]}}, {\"mode\": \"vega-lite\"});\n",
       "</script>"
      ],
      "text/plain": [
       "alt.VConcatChart(...)"
      ]
     },
     "execution_count": 7,
     "metadata": {},
     "output_type": "execute_result"
    }
   ],
   "source": [
    "plot_trajectories(\n",
    "    df_events\n",
    ")"
   ]
  },
  {
   "attachments": {},
   "cell_type": "markdown",
   "metadata": {},
   "source": [
    "Further configuration can be provided, including :\n",
    "- dim_mapping : dictionary to set colors and labels for each event type.\n",
    "- family_col: column name of events' families.\n",
    "- list_person_ids: List of specific `person_id`\n",
    "- same_x_axis_scale: boolean to set all individual charts to the same scale"
   ]
  },
  {
   "cell_type": "code",
   "execution_count": 8,
   "metadata": {},
   "outputs": [],
   "source": [
    "dim_mapping = {\n",
    "    \"a1\":{\"color\":(255, 200, 150), \"label\":\"eventA1\"},\n",
    "    \"a2\":{\"color\":(235, 200, 150), \"label\":\"eventA2\"},\n",
    "    \"a3\":{\"color\":(215, 200, 150), \"label\":\"eventA3\"},\n",
    "    \"b1\":{\"color\":(200, 200, 150), \"label\":\"eventB1\"},\n",
    "    \"c1\": {\"color\":(50, 255, 255), \"label\":\"eventC1\"},\n",
    "    \"c2\": {\"color\":(50, 200, 255), \"label\":\"eventC2\"},\n",
    "    \"c3\": {\"color\":(50, 255, 200), \"label\":\"eventC3\"},\n",
    "    \"d1\": {\"color\":(180, 180, 0), \"label\":\"eventD1\"},\n",
    "    \"d2\": {\"color\":(180, 100, 0), \"label\":\"eventD2\"},\n",
    "    \"e1\": {\"color\":(130, 60, 10), \"label\":\"eventE1\"},\n",
    "    \"f1\": {\"color\":(255, 0, 0), \"label\":\"eventF1\"},\n",
    "    \"g1\": {\"color\":(100, 0, 200), \"label\":\"eventG1\"},\n",
    "}"
   ]
  },
  {
   "cell_type": "code",
   "execution_count": 9,
   "metadata": {},
   "outputs": [
    {
     "data": {
      "text/html": [
       "\n",
       "<div id=\"altair-viz-6befcb86b81e4a56853f865dfcddddbb\"></div>\n",
       "<script type=\"text/javascript\">\n",
       "  var VEGA_DEBUG = (typeof VEGA_DEBUG == \"undefined\") ? {} : VEGA_DEBUG;\n",
       "  (function(spec, embedOpt){\n",
       "    let outputDiv = document.currentScript.previousElementSibling;\n",
       "    if (outputDiv.id !== \"altair-viz-6befcb86b81e4a56853f865dfcddddbb\") {\n",
       "      outputDiv = document.getElementById(\"altair-viz-6befcb86b81e4a56853f865dfcddddbb\");\n",
       "    }\n",
       "    const paths = {\n",
       "      \"vega\": \"https://cdn.jsdelivr.net/npm//vega@5?noext\",\n",
       "      \"vega-lib\": \"https://cdn.jsdelivr.net/npm//vega-lib?noext\",\n",
       "      \"vega-lite\": \"https://cdn.jsdelivr.net/npm//vega-lite@4.17.0?noext\",\n",
       "      \"vega-embed\": \"https://cdn.jsdelivr.net/npm//vega-embed@6?noext\",\n",
       "    };\n",
       "\n",
       "    function maybeLoadScript(lib, version) {\n",
       "      var key = `${lib.replace(\"-\", \"\")}_version`;\n",
       "      return (VEGA_DEBUG[key] == version) ?\n",
       "        Promise.resolve(paths[lib]) :\n",
       "        new Promise(function(resolve, reject) {\n",
       "          var s = document.createElement('script');\n",
       "          document.getElementsByTagName(\"head\")[0].appendChild(s);\n",
       "          s.async = true;\n",
       "          s.onload = () => {\n",
       "            VEGA_DEBUG[key] = version;\n",
       "            return resolve(paths[lib]);\n",
       "          };\n",
       "          s.onerror = () => reject(`Error loading script: ${paths[lib]}`);\n",
       "          s.src = paths[lib];\n",
       "        });\n",
       "    }\n",
       "\n",
       "    function showError(err) {\n",
       "      outputDiv.innerHTML = `<div class=\"error\" style=\"color:red;\">${err}</div>`;\n",
       "      throw err;\n",
       "    }\n",
       "\n",
       "    function displayChart(vegaEmbed) {\n",
       "      vegaEmbed(outputDiv, spec, embedOpt)\n",
       "        .catch(err => showError(`Javascript Error: ${err.message}<br>This usually means there's a typo in your chart specification. See the javascript console for the full traceback.`));\n",
       "    }\n",
       "\n",
       "    if(typeof define === \"function\" && define.amd) {\n",
       "      requirejs.config({paths});\n",
       "      require([\"vega-embed\"], displayChart, err => showError(`Error loading script: ${err.message}`));\n",
       "    } else {\n",
       "      maybeLoadScript(\"vega\", \"5\")\n",
       "        .then(() => maybeLoadScript(\"vega-lite\", \"4.17.0\"))\n",
       "        .then(() => maybeLoadScript(\"vega-embed\", \"6\"))\n",
       "        .catch(showError)\n",
       "        .then(() => displayChart(vegaEmbed));\n",
       "    }\n",
       "  })({\"config\": {\"view\": {\"continuousWidth\": 400, \"continuousHeight\": 300}, \"axisY\": {\"disable\": true}, \"legend\": {\"labelFontSize\": 13, \"symbolSize\": 150, \"titleFontSize\": 15}}, \"vconcat\": [{\"layer\": [{\"mark\": {\"type\": \"point\", \"cursor\": \"pointer\", \"filled\": true, \"size\": 400}, \"encoding\": {\"color\": {\"field\": \"dim_label\", \"scale\": {\"domain\": [\"eventA1\", \"eventA2\", \"eventA3\", \"eventB1\", \"eventC1\", \"eventC2\", \"eventC3\", \"eventD1\", \"eventD2\", \"eventE1\", \"eventF1\", \"eventG1\"], \"range\": [\"rgb(255, 200, 150)\", \"rgb(235, 200, 150)\", \"rgb(215, 200, 150)\", \"rgb(200, 200, 150)\", \"rgb(50, 255, 255)\", \"rgb(50, 200, 255)\", \"rgb(50, 255, 200)\", \"rgb(180, 180, 0)\", \"rgb(180, 100, 0)\", \"rgb(130, 60, 10)\", \"rgb(255, 0, 0)\", \"rgb(100, 0, 200)\"]}, \"title\": \"Event type\", \"type\": \"ordinal\"}, \"tooltip\": [{\"field\": \"event\", \"type\": \"nominal\"}, {\"field\": \"event_start_datetime\", \"type\": \"temporal\"}], \"x\": {\"field\": \"event_start_datetime\", \"type\": \"temporal\"}, \"y\": {\"field\": \"dim_id\", \"title\": \"\", \"type\": \"ordinal\"}}, \"transform\": [{\"filter\": {\"not\": {\"field\": \"event_end_datetime\", \"valid\": true}}}]}, {\"mark\": {\"type\": \"bar\", \"cornerRadius\": 10.0, \"cursor\": \"pointer\", \"filled\": true, \"height\": 20}, \"encoding\": {\"color\": {\"field\": \"dim_label\", \"scale\": {\"domain\": [\"eventA1\", \"eventA2\", \"eventA3\", \"eventB1\", \"eventC1\", \"eventC2\", \"eventC3\", \"eventD1\", \"eventD2\", \"eventE1\", \"eventF1\", \"eventG1\"], \"range\": [\"rgb(255, 200, 150)\", \"rgb(235, 200, 150)\", \"rgb(215, 200, 150)\", \"rgb(200, 200, 150)\", \"rgb(50, 255, 255)\", \"rgb(50, 200, 255)\", \"rgb(50, 255, 200)\", \"rgb(180, 180, 0)\", \"rgb(180, 100, 0)\", \"rgb(130, 60, 10)\", \"rgb(255, 0, 0)\", \"rgb(100, 0, 200)\"]}, \"title\": \"Event type\", \"type\": \"ordinal\"}, \"tooltip\": [{\"field\": \"event\", \"type\": \"nominal\"}, {\"field\": \"event_start_datetime\", \"type\": \"temporal\"}, {\"field\": \"event_end_datetime\", \"type\": \"temporal\"}], \"x\": {\"field\": \"event_start_datetime\", \"type\": \"temporal\"}, \"x2\": {\"field\": \"event_end_datetime\"}, \"y\": {\"field\": \"dim_id\", \"title\": \"\", \"type\": \"ordinal\"}}, \"transform\": [{\"filter\": {\"field\": \"event_end_datetime\", \"valid\": true}}]}], \"height\": 200, \"title\": \"Sequence of patient 1\", \"transform\": [{\"filter\": \"(datum.person_id === 1)\"}], \"width\": 500}, {\"layer\": [{\"mark\": {\"type\": \"point\", \"cursor\": \"pointer\", \"filled\": true, \"size\": 400}, \"encoding\": {\"color\": {\"field\": \"dim_label\", \"scale\": {\"domain\": [\"eventA1\", \"eventA2\", \"eventA3\", \"eventB1\", \"eventC1\", \"eventC2\", \"eventC3\", \"eventD1\", \"eventD2\", \"eventE1\", \"eventF1\", \"eventG1\"], \"range\": [\"rgb(255, 200, 150)\", \"rgb(235, 200, 150)\", \"rgb(215, 200, 150)\", \"rgb(200, 200, 150)\", \"rgb(50, 255, 255)\", \"rgb(50, 200, 255)\", \"rgb(50, 255, 200)\", \"rgb(180, 180, 0)\", \"rgb(180, 100, 0)\", \"rgb(130, 60, 10)\", \"rgb(255, 0, 0)\", \"rgb(100, 0, 200)\"]}, \"title\": \"Event type\", \"type\": \"ordinal\"}, \"tooltip\": [{\"field\": \"event\", \"type\": \"nominal\"}, {\"field\": \"event_start_datetime\", \"type\": \"temporal\"}], \"x\": {\"field\": \"event_start_datetime\", \"type\": \"temporal\"}, \"y\": {\"field\": \"dim_id\", \"title\": \"\", \"type\": \"ordinal\"}}, \"transform\": [{\"filter\": {\"not\": {\"field\": \"event_end_datetime\", \"valid\": true}}}]}, {\"mark\": {\"type\": \"bar\", \"cornerRadius\": 10.0, \"cursor\": \"pointer\", \"filled\": true, \"height\": 20}, \"encoding\": {\"color\": {\"field\": \"dim_label\", \"scale\": {\"domain\": [\"eventA1\", \"eventA2\", \"eventA3\", \"eventB1\", \"eventC1\", \"eventC2\", \"eventC3\", \"eventD1\", \"eventD2\", \"eventE1\", \"eventF1\", \"eventG1\"], \"range\": [\"rgb(255, 200, 150)\", \"rgb(235, 200, 150)\", \"rgb(215, 200, 150)\", \"rgb(200, 200, 150)\", \"rgb(50, 255, 255)\", \"rgb(50, 200, 255)\", \"rgb(50, 255, 200)\", \"rgb(180, 180, 0)\", \"rgb(180, 100, 0)\", \"rgb(130, 60, 10)\", \"rgb(255, 0, 0)\", \"rgb(100, 0, 200)\"]}, \"title\": \"Event type\", \"type\": \"ordinal\"}, \"tooltip\": [{\"field\": \"event\", \"type\": \"nominal\"}, {\"field\": \"event_start_datetime\", \"type\": \"temporal\"}, {\"field\": \"event_end_datetime\", \"type\": \"temporal\"}], \"x\": {\"field\": \"event_start_datetime\", \"type\": \"temporal\"}, \"x2\": {\"field\": \"event_end_datetime\"}, \"y\": {\"field\": \"dim_id\", \"title\": \"\", \"type\": \"ordinal\"}}, \"transform\": [{\"filter\": {\"field\": \"event_end_datetime\", \"valid\": true}}]}], \"height\": 200, \"title\": \"Sequence of patient 2\", \"transform\": [{\"filter\": \"(datum.person_id === 2)\"}], \"width\": 500}], \"data\": {\"name\": \"data-f592bc5edaf652ba6aba7161d8b82177\"}, \"resolve\": {\"scale\": {\"x\": \"shared\"}}, \"title\": \"Event sequences\", \"$schema\": \"https://vega.github.io/schema/vega-lite/v4.17.0.json\", \"datasets\": {\"data-f592bc5edaf652ba6aba7161d8b82177\": [{\"person_id\": 1, \"event_family\": \"A\", \"event\": \"a1\", \"event_start_datetime\": \"2020-01-01T00:00:00\", \"event_end_datetime\": \"2020-01-02T00:00:00\", \"index_date\": \"2020-01-01T00:00:00\", \"dim_id\": 0, \"dim_label\": \"eventA1\"}, {\"person_id\": 1, \"event_family\": \"A\", \"event\": \"a2\", \"event_start_datetime\": \"2020-01-03T00:00:00\", \"event_end_datetime\": \"2020-01-04T00:00:00\", \"index_date\": \"2020-01-01T00:00:00\", \"dim_id\": 0, \"dim_label\": \"eventA2\"}, {\"person_id\": 1, \"event_family\": \"B\", \"event\": \"b1\", \"event_start_datetime\": \"2020-01-03T00:00:00\", \"event_end_datetime\": \"2020-01-06T00:00:00\", \"index_date\": \"2020-01-01T00:00:00\", \"dim_id\": 1, \"dim_label\": \"eventB1\"}, {\"person_id\": 1, \"event_family\": \"C\", \"event\": \"c1\", \"event_start_datetime\": \"2020-01-05T00:00:00\", \"event_end_datetime\": \"\", \"index_date\": \"2020-01-01T00:00:00\", \"dim_id\": 2, \"dim_label\": \"eventC1\"}, {\"person_id\": 1, \"event_family\": \"D\", \"event\": \"d1\", \"event_start_datetime\": \"2020-01-05T00:00:00\", \"event_end_datetime\": \"2020-01-08T00:00:00\", \"index_date\": \"2020-01-01T00:00:00\", \"dim_id\": 3, \"dim_label\": \"eventD1\"}, {\"person_id\": 1, \"event_family\": \"C\", \"event\": \"c2\", \"event_start_datetime\": \"2020-01-06T00:00:00\", \"event_end_datetime\": \"2020-01-08T00:00:00\", \"index_date\": \"2020-01-01T00:00:00\", \"dim_id\": 2, \"dim_label\": \"eventC2\"}, {\"person_id\": 1, \"event_family\": \"D\", \"event\": \"d1\", \"event_start_datetime\": \"2020-01-06T00:00:00\", \"event_end_datetime\": \"2020-01-09T00:00:00\", \"index_date\": \"2020-01-01T00:00:00\", \"dim_id\": 3, \"dim_label\": \"eventD1\"}, {\"person_id\": 1, \"event_family\": \"D\", \"event\": \"d2\", \"event_start_datetime\": \"2020-01-07T00:00:00\", \"event_end_datetime\": \"2020-01-09T00:00:00\", \"index_date\": \"2020-01-01T00:00:00\", \"dim_id\": 3, \"dim_label\": \"eventD2\"}, {\"person_id\": 1, \"event_family\": \"E\", \"event\": \"e1\", \"event_start_datetime\": \"2020-01-11T00:00:00\", \"event_end_datetime\": \"\", \"index_date\": \"2020-01-01T00:00:00\", \"dim_id\": 4, \"dim_label\": \"eventE1\"}, {\"person_id\": 1, \"event_family\": \"F\", \"event\": \"f1\", \"event_start_datetime\": \"2020-01-12T00:00:00\", \"event_end_datetime\": \"2020-01-13T00:00:00\", \"index_date\": \"2020-01-01T00:00:00\", \"dim_id\": 5, \"dim_label\": \"eventF1\"}, {\"person_id\": 1, \"event_family\": \"G\", \"event\": \"g1\", \"event_start_datetime\": \"2020-01-15T00:00:00\", \"event_end_datetime\": \"2020-01-17T00:00:00\", \"index_date\": \"2020-01-01T00:00:00\", \"dim_id\": 6, \"dim_label\": \"eventG1\"}, {\"person_id\": 1, \"event_family\": \"G\", \"event\": \"g1\", \"event_start_datetime\": \"2020-01-17T00:00:00\", \"event_end_datetime\": \"2020-01-17T00:00:00\", \"index_date\": \"2020-01-01T00:00:00\", \"dim_id\": 6, \"dim_label\": \"eventG1\"}, {\"person_id\": 2, \"event_family\": \"A\", \"event\": \"a3\", \"event_start_datetime\": \"2020-01-01T00:00:00\", \"event_end_datetime\": \"2020-01-08T00:00:00\", \"index_date\": \"2020-01-01T00:00:00\", \"dim_id\": 0, \"dim_label\": \"eventA3\"}, {\"person_id\": 2, \"event_family\": \"B\", \"event\": \"b1\", \"event_start_datetime\": \"2020-01-03T00:00:00\", \"event_end_datetime\": \"2020-01-06T00:00:00\", \"index_date\": \"2020-01-01T00:00:00\", \"dim_id\": 1, \"dim_label\": \"eventB1\"}, {\"person_id\": 2, \"event_family\": \"C\", \"event\": \"c3\", \"event_start_datetime\": \"2020-01-05T00:00:00\", \"event_end_datetime\": \"2020-01-07T00:00:00\", \"index_date\": \"2020-01-01T00:00:00\", \"dim_id\": 2, \"dim_label\": \"eventC3\"}, {\"person_id\": 2, \"event_family\": \"C\", \"event\": \"c3\", \"event_start_datetime\": \"2020-01-06T00:00:00\", \"event_end_datetime\": \"2020-01-09T00:00:00\", \"index_date\": \"2020-01-01T00:00:00\", \"dim_id\": 2, \"dim_label\": \"eventC3\"}, {\"person_id\": 2, \"event_family\": \"C\", \"event\": \"c3\", \"event_start_datetime\": \"2020-01-08T00:00:00\", \"event_end_datetime\": \"2020-01-10T00:00:00\", \"index_date\": \"2020-01-01T00:00:00\", \"dim_id\": 2, \"dim_label\": \"eventC3\"}, {\"person_id\": 2, \"event_family\": \"D\", \"event\": \"d1\", \"event_start_datetime\": \"2020-01-10T00:00:00\", \"event_end_datetime\": \"2020-01-12T00:00:00\", \"index_date\": \"2020-01-01T00:00:00\", \"dim_id\": 3, \"dim_label\": \"eventD1\"}]}}, {\"mode\": \"vega-lite\"});\n",
       "</script>"
      ],
      "text/plain": [
       "alt.VConcatChart(...)"
      ]
     },
     "execution_count": 9,
     "metadata": {},
     "output_type": "execute_result"
    }
   ],
   "source": [
    "plot_trajectories(\n",
    "    df_events,\n",
    "    family_col = 'event_family',\n",
    "    dim_mapping = dim_mapping,\n",
    "    same_x_axis_scale=True,\n",
    "    title=\"Event sequences\",\n",
    ")"
   ]
  },
  {
   "cell_type": "code",
   "execution_count": null,
   "metadata": {},
   "outputs": [],
   "source": []
  }
 ],
 "metadata": {
  "kernelspec": {
   "display_name": "eds-scikit",
   "language": "python",
   "name": "python3"
  },
  "language_info": {
   "codemirror_mode": {
    "name": "ipython",
    "version": 3
   },
   "file_extension": ".py",
   "mimetype": "text/x-python",
   "name": "python",
   "nbconvert_exporter": "python",
   "pygments_lexer": "ipython3",
   "version": "3.7.16"
  },
  "orig_nbformat": 4,
  "vscode": {
   "interpreter": {
    "hash": "c971d0b6b3c5a00b21600a5eabc6ef9c3851aeda54b80b6cde1442f55db7428c"
   }
  }
 },
 "nbformat": 4,
 "nbformat_minor": 2
}
