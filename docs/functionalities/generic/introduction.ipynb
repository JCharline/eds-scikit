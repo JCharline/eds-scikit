{
 "cells": [
  {
   "cell_type": "markdown",
   "metadata": {},
   "source": [
    "# A gentle demo"
   ]
  },
  {
   "cell_type": "code",
   "execution_count": 1,
   "metadata": {},
   "outputs": [],
   "source": [
    "import datetime\n",
    "import pandas as pd\n",
    "\n",
    "import eds_scikit"
   ]
  },
  {
   "cell_type": "markdown",
   "metadata": {},
   "source": [
    "```python\n",
    "spark, sc, sql = eds_scikit.improve_performances() # (1)\n",
    "```\n",
    "\n",
    "1. See the [welcome page](../../index.md) for an explanation of this line"
   ]
  },
  {
   "cell_type": "markdown",
   "metadata": {},
   "source": [
    "## Loading data\n",
    "\n",
    "Data loading is made easy by using the [`HiveData`][eds_scikit.io.hive.HiveData] object.  \n",
    "Simply give it the name of the database you want to use:"
   ]
  },
  {
   "cell_type": "code",
   "execution_count": null,
   "metadata": {},
   "outputs": [],
   "source": [
    "database_name = \"MY_DATABASE_NAME\""
   ]
  },
  {
   "cell_type": "code",
   "execution_count": 3,
   "metadata": {},
   "outputs": [],
   "source": [
    "from eds_scikit.io import HiveData\n",
    "\n",
    "data = HiveData(\n",
    "    database_name=\"database_name\",\n",
    ")"
   ]
  },
  {
   "cell_type": "markdown",
   "metadata": {},
   "source": [
    "Now your tables are available as Koalas DataFrames: Those are basically Spark DataFrames which allows for the Pandas API to be used on top (see the [Project description](../../project_description.md) of EDS-Scikit's documentation for more informations.)"
   ]
  },
  {
   "cell_type": "markdown",
   "metadata": {},
   "source": [
    "What we need to extract:\n",
    "\n",
    "- Patients with diabetes\n",
    "- Patients with Covid-19\n",
    "- Visits from those patients, and their ICU/Non-ICU status\n",
    "\n",
    "Let us import what's necessary from **EDS-Scikit**:"
   ]
  },
  {
   "cell_type": "code",
   "execution_count": 4,
   "metadata": {},
   "outputs": [],
   "source": [
    "from eds_scikit.event import conditions_from_icd10\n",
    "from eds_scikit.event.diabetes import (\n",
    "    diabetes_from_icd10,\n",
    "    DEFAULT_DIABETE_FROM_ICD10_CONFIG,\n",
    ")\n",
    "from eds_scikit.icu import tag_icu_visit"
   ]
  },
  {
   "cell_type": "code",
   "execution_count": 6,
   "metadata": {},
   "outputs": [],
   "source": [
    "DATE_MIN = datetime.datetime(2020, 1, 1)\n",
    "DATE_MAX = datetime.datetime(2021, 6, 1)"
   ]
  },
  {
   "cell_type": "markdown",
   "metadata": {},
   "source": [
    "## Extracting the diabetic status\n",
    "\n",
    "Luckily, a function is available to extract diabetic patients from ICD-10:"
   ]
  },
  {
   "cell_type": "code",
   "execution_count": 7,
   "metadata": {},
   "outputs": [],
   "source": [
    "diabetes = diabetes_from_icd10(\n",
    "    condition_occurrence=data.condition_occurrence,\n",
    "    visit_occurrence=data.visit_occurrence,\n",
    "    date_min=DATE_MIN,\n",
    "    date_max=DATE_MAX,\n",
    ")"
   ]
  },
  {
   "cell_type": "markdown",
   "metadata": {},
   "source": [
    "We can check the default parameters used here:"
   ]
  },
  {
   "cell_type": "code",
   "execution_count": 2,
   "metadata": {},
   "outputs": [
    {
     "name": "stdout",
     "output_type": "stream",
     "text": [
      "{'additional_filtering': {'condition_status_source_value': {'DP', 'DAS'}},\n",
      " 'codes': {'DIABETES_INSIPIDUS': {'code_list': ['E232', 'N251'],\n",
      "                                  'code_type': 'exact'},\n",
      "           'DIABETES_IN_PREGNANCY': {'code_list': ['O24'],\n",
      "                                     'code_type': 'prefix'},\n",
      "           'DIABETES_MALNUTRITION': {'code_list': ['E12'],\n",
      "                                     'code_type': 'prefix'},\n",
      "           'DIABETES_TYPE_I': {'code_list': ['E10'], 'code_type': 'prefix'},\n",
      "           'DIABETES_TYPE_II': {'code_list': ['E11'], 'code_type': 'prefix'},\n",
      "           'OTHER_DIABETES_MELLITUS': {'code_list': ['E13', 'E14'],\n",
      "                                       'code_type': 'prefix'}},\n",
      " 'date_from_visit': True,\n",
      " 'default_code_type': 'prefix'}\n"
     ]
    }
   ],
   "source": [
    "DEFAULT_DIABETE_FROM_ICD10_CONFIG"
   ]
  },
  {
   "cell_type": "markdown",
   "metadata": {},
   "source": [
    "We are only interested in *diabetes mellitus*, although we extracted other types of diabetes:"
   ]
  },
  {
   "cell_type": "code",
   "execution_count": 9,
   "metadata": {},
   "outputs": [
    {
     "data": {
      "text/plain": [
       "DIABETES_TYPE_II           117843\n",
       "DIABETES_TYPE_I             10597\n",
       "OTHER_DIABETES_MELLITUS      6031\n",
       "DIABETES_IN_PREGNANCY        2597\n",
       "DIABETES_INSIPIDUS           1089\n",
       "DIABETES_MALNUTRITION         199\n",
       "Name: concept, dtype: int64"
      ]
     },
     "execution_count": 9,
     "metadata": {},
     "output_type": "execute_result"
    }
   ],
   "source": [
    "diabetes.concept.value_counts()"
   ]
  },
  {
   "cell_type": "markdown",
   "metadata": {},
   "source": [
    "We will restrict the types of diabetes used here:"
   ]
  },
  {
   "cell_type": "code",
   "execution_count": 10,
   "metadata": {},
   "outputs": [],
   "source": [
    "diabetes_cohort = (\n",
    "    diabetes[\n",
    "        diabetes.concept.isin(\n",
    "            {\n",
    "                \"DIABETES_TYPE_I\",\n",
    "                \"DIABETES_TYPE_II\",\n",
    "                \"OTHER_DIABETES_MELLITUS\",\n",
    "            }\n",
    "        )\n",
    "    ]\n",
    "    .person_id.unique()\n",
    "    .reset_index()\n",
    ")\n",
    "diabetes_cohort.loc[:, \"HAS_DIABETE\"] = True"
   ]
  },
  {
   "cell_type": "markdown",
   "metadata": {},
   "source": [
    "## Extracting the Covid status\n",
    "\n",
    "Using the `conditions_from_icd10` function, we will extract visits linked to COVID-19:"
   ]
  },
  {
   "cell_type": "code",
   "execution_count": 16,
   "metadata": {},
   "outputs": [],
   "source": [
    "codes = dict(\n",
    "    COVID=dict(\n",
    "        code_list=r\"U071[0145]\", \n",
    "        code_type=\"regex\",\n",
    "    )\n",
    ")\n",
    "\n",
    "covid = conditions_from_icd10(\n",
    "    condition_occurrence=data.condition_occurrence,\n",
    "    visit_occurrence=data.visit_occurrence,\n",
    "    codes=codes,\n",
    "    date_min=DATE_MIN,\n",
    "    date_max=DATE_MAX,\n",
    ")"
   ]
  },
  {
   "cell_type": "markdown",
   "metadata": {},
   "source": [
    "Now we can go from the `visit_occurrence` level to the `visit_detail` level."
   ]
  },
  {
   "cell_type": "code",
   "execution_count": 17,
   "metadata": {},
   "outputs": [],
   "source": [
    "visit_detail_covid = data.visit_detail.merge(\n",
    "    covid[[\"visit_occurrence_id\"]],\n",
    "    on=\"visit_occurrence_id\",\n",
    "    how=\"inner\",\n",
    ")"
   ]
  },
  {
   "cell_type": "markdown",
   "metadata": {},
   "source": [
    "## Extracting ICU visits\n",
    "\n",
    "What is left to do is to tag each visit as occurring in an ICU or not. This is achieved with the `tag_icu_visit`.  \n",
    "Like many functions in **EDS-Scikit**, this function exposes an `algo` argument, allowing you to choose how the tagging is done.  \n",
    "You can check the corresponding documentation to see the availables `algos`."
   ]
  },
  {
   "cell_type": "code",
   "execution_count": 18,
   "metadata": {},
   "outputs": [],
   "source": [
    "visit_detail_covid = tag_icu_visit(\n",
    "    visit_detail=visit_detail_covid,\n",
    "    care_site=data.care_site,\n",
    "    algo=\"from_authorisation_type\",\n",
    ")"
   ]
  },
  {
   "cell_type": "code",
   "execution_count": 19,
   "metadata": {},
   "outputs": [],
   "source": [
    "visit_detail_covid = visit_detail_covid.merge(\n",
    "    diabetes_cohort, on=\"person_id\", how=\"left\"\n",
    ")\n",
    "\n",
    "visit_detail_covid[\"HAS_DIABETE\"].fillna(False, inplace=True)\n",
    "visit_detail_covid[\"IS_ICU\"].fillna(False, inplace=True)"
   ]
  },
  {
   "cell_type": "markdown",
   "metadata": {},
   "source": [
    "## Finishing the analysis\n",
    "\n",
    "### Adding patient's age"
   ]
  },
  {
   "cell_type": "markdown",
   "metadata": {},
   "source": [
    "We will add the patient's age at each `visit_detail`:"
   ]
  },
  {
   "cell_type": "code",
   "execution_count": 21,
   "metadata": {},
   "outputs": [],
   "source": [
    "from eds_scikit.utils import datetime_helpers"
   ]
  },
  {
   "cell_type": "code",
   "execution_count": 22,
   "metadata": {},
   "outputs": [],
   "source": [
    "visit_detail_covid = visit_detail_covid.merge(data.person[['person_id','birth_datetime']], \n",
    "                                              on='person_id', \n",
    "                                              how='inner')\n",
    "\n",
    "visit_detail_covid[\"age\"] = (\n",
    "    datetime_helpers.substract_datetime(\n",
    "        visit_detail_covid[\"visit_detail_start_datetime\"],\n",
    "        visit_detail_covid[\"birth_datetime\"],\n",
    "        out=\"hours\",\n",
    "    )\n",
    "    / (24 * 365.25)\n",
    ")"
   ]
  },
  {
   "cell_type": "markdown",
   "metadata": {},
   "source": [
    "### From distributed **Koalas** to local **Pandas**"
   ]
  },
  {
   "cell_type": "markdown",
   "metadata": {},
   "source": [
    "All the computing above was done using **Koalas** DataFrames, which are distributed.  \n",
    "Now that we limited our cohort to a manageable size, we can switch to **Pandas** to finish our analysis."
   ]
  },
  {
   "cell_type": "code",
   "execution_count": 23,
   "metadata": {},
   "outputs": [],
   "source": [
    "visit_detail_covid_pd = visit_detail_covid[\n",
    "    [\"person_id\", \"age\", \"HAS_DIABETE\", \"IS_ICU\"]\n",
    "].to_pandas()"
   ]
  },
  {
   "cell_type": "markdown",
   "metadata": {},
   "source": [
    "### Grouping by patient"
   ]
  },
  {
   "cell_type": "code",
   "execution_count": 36,
   "metadata": {},
   "outputs": [],
   "source": [
    "stats = (\n",
    "    visit_detail_covid_pd[[\"person_id\", \"age\", \"HAS_DIABETE\", \"IS_ICU\"]]\n",
    "    .groupby(\"person_id\")\n",
    "    .agg(\n",
    "        HAS_DIABETE=(\"HAS_DIABETE\", \"any\"), \n",
    "        IS_ICU=(\"IS_ICU\", \"any\"), \n",
    "        age=(\"age\", \"min\"),\n",
    "    )\n",
    ")"
   ]
  },
  {
   "cell_type": "markdown",
   "metadata": {},
   "source": [
    "### Binning the age into intervals"
   ]
  },
  {
   "cell_type": "code",
   "execution_count": 38,
   "metadata": {},
   "outputs": [],
   "source": [
    "stats[\"age\"] = pd.cut(\n",
    "    stats.age,\n",
    "    bins=[0, 40, 50, 60, 70, 120],\n",
    "    labels=[\"(0, 40]\", \"(40, 50]\", \"(50, 60]\", \"(60, 70]\", \"(70, 120]\"],\n",
    ")"
   ]
  },
  {
   "cell_type": "markdown",
   "metadata": {},
   "source": [
    "### Computing the ratio of patients that had an ICU visit"
   ]
  },
  {
   "cell_type": "code",
   "execution_count": 40,
   "metadata": {},
   "outputs": [],
   "source": [
    "stats = stats.groupby([\"age\", \"HAS_DIABETE\"], as_index=False).apply(\n",
    "    lambda x: x[\"IS_ICU\"].sum() / len(x)\n",
    ")\n",
    "\n",
    "stats.columns = [\"age\", \"cohorte\", \"percent_icu\"]\n",
    "\n",
    "stats[\"cohorte\"] = stats[\"cohorte\"].replace({True: \"Diab.\", False: \"Control\"})"
   ]
  },
  {
   "cell_type": "markdown",
   "metadata": {},
   "source": [
    "## Results"
   ]
  },
  {
   "cell_type": "code",
   "execution_count": 41,
   "metadata": {},
   "outputs": [
    {
     "data": {
      "text/html": [
       "<div>\n",
       "<style scoped>\n",
       "    .dataframe tbody tr th:only-of-type {\n",
       "        vertical-align: middle;\n",
       "    }\n",
       "\n",
       "    .dataframe tbody tr th {\n",
       "        vertical-align: top;\n",
       "    }\n",
       "\n",
       "    .dataframe thead th {\n",
       "        text-align: right;\n",
       "    }\n",
       "</style>\n",
       "<table border=\"1\" class=\"dataframe\">\n",
       "  <thead>\n",
       "    <tr style=\"text-align: right;\">\n",
       "      <th></th>\n",
       "      <th>age</th>\n",
       "      <th>cohorte</th>\n",
       "      <th>percent_icu</th>\n",
       "    </tr>\n",
       "  </thead>\n",
       "  <tbody>\n",
       "    <tr>\n",
       "      <th>0</th>\n",
       "      <td>(0, 40]</td>\n",
       "      <td>Control</td>\n",
       "      <td>0.327988</td>\n",
       "    </tr>\n",
       "    <tr>\n",
       "      <th>1</th>\n",
       "      <td>(0, 40]</td>\n",
       "      <td>Diab.</td>\n",
       "      <td>0.445578</td>\n",
       "    </tr>\n",
       "    <tr>\n",
       "      <th>2</th>\n",
       "      <td>(40, 50]</td>\n",
       "      <td>Control</td>\n",
       "      <td>0.263667</td>\n",
       "    </tr>\n",
       "    <tr>\n",
       "      <th>3</th>\n",
       "      <td>(40, 50]</td>\n",
       "      <td>Diab.</td>\n",
       "      <td>0.427203</td>\n",
       "    </tr>\n",
       "    <tr>\n",
       "      <th>4</th>\n",
       "      <td>(50, 60]</td>\n",
       "      <td>Control</td>\n",
       "      <td>0.315931</td>\n",
       "    </tr>\n",
       "    <tr>\n",
       "      <th>5</th>\n",
       "      <td>(50, 60]</td>\n",
       "      <td>Diab.</td>\n",
       "      <td>0.464736</td>\n",
       "    </tr>\n",
       "    <tr>\n",
       "      <th>6</th>\n",
       "      <td>(60, 70]</td>\n",
       "      <td>Control</td>\n",
       "      <td>0.356808</td>\n",
       "    </tr>\n",
       "    <tr>\n",
       "      <th>7</th>\n",
       "      <td>(60, 70]</td>\n",
       "      <td>Diab.</td>\n",
       "      <td>0.474766</td>\n",
       "    </tr>\n",
       "    <tr>\n",
       "      <th>8</th>\n",
       "      <td>(70, 120]</td>\n",
       "      <td>Control</td>\n",
       "      <td>0.159337</td>\n",
       "    </tr>\n",
       "    <tr>\n",
       "      <th>9</th>\n",
       "      <td>(70, 120]</td>\n",
       "      <td>Diab.</td>\n",
       "      <td>0.230180</td>\n",
       "    </tr>\n",
       "  </tbody>\n",
       "</table>\n",
       "</div>"
      ],
      "text/plain": [
       "         age  cohorte  percent_icu\n",
       "0    (0, 40]  Control     0.327988\n",
       "1    (0, 40]    Diab.     0.445578\n",
       "2   (40, 50]  Control     0.263667\n",
       "3   (40, 50]    Diab.     0.427203\n",
       "4   (50, 60]  Control     0.315931\n",
       "5   (50, 60]    Diab.     0.464736\n",
       "6   (60, 70]  Control     0.356808\n",
       "7   (60, 70]    Diab.     0.474766\n",
       "8  (70, 120]  Control     0.159337\n",
       "9  (70, 120]    Diab.     0.230180"
      ]
     },
     "execution_count": 41,
     "metadata": {},
     "output_type": "execute_result"
    }
   ],
   "source": [
    "stats"
   ]
  },
  {
   "cell_type": "markdown",
   "metadata": {},
   "source": [
    "We can finally plot our results using [Altair](https://altair-viz.github.io/):"
   ]
  },
  {
   "cell_type": "code",
   "execution_count": null,
   "metadata": {},
   "outputs": [],
   "source": [
    "import altair as alt"
   ]
  },
  {
   "cell_type": "code",
   "execution_count": 42,
   "metadata": {},
   "outputs": [
    {
     "data": {
      "text/html": [
       "\n",
       "<div id=\"altair-viz-679a8662c76643b1ae8af86ce4171d2c\"></div>\n",
       "<script type=\"text/javascript\">\n",
       "  (function(spec, embedOpt){\n",
       "    let outputDiv = document.currentScript.previousElementSibling;\n",
       "    if (outputDiv.id !== \"altair-viz-679a8662c76643b1ae8af86ce4171d2c\") {\n",
       "      outputDiv = document.getElementById(\"altair-viz-679a8662c76643b1ae8af86ce4171d2c\");\n",
       "    }\n",
       "    const paths = {\n",
       "      \"vega\": \"https://cdn.jsdelivr.net/npm//vega@5?noext\",\n",
       "      \"vega-lib\": \"https://cdn.jsdelivr.net/npm//vega-lib?noext\",\n",
       "      \"vega-lite\": \"https://cdn.jsdelivr.net/npm//vega-lite@4.8.1?noext\",\n",
       "      \"vega-embed\": \"https://cdn.jsdelivr.net/npm//vega-embed@6?noext\",\n",
       "    };\n",
       "\n",
       "    function loadScript(lib) {\n",
       "      return new Promise(function(resolve, reject) {\n",
       "        var s = document.createElement('script');\n",
       "        s.src = paths[lib];\n",
       "        s.async = true;\n",
       "        s.onload = () => resolve(paths[lib]);\n",
       "        s.onerror = () => reject(`Error loading script: ${paths[lib]}`);\n",
       "        document.getElementsByTagName(\"head\")[0].appendChild(s);\n",
       "      });\n",
       "    }\n",
       "\n",
       "    function showError(err) {\n",
       "      outputDiv.innerHTML = `<div class=\"error\" style=\"color:red;\">${err}</div>`;\n",
       "      throw err;\n",
       "    }\n",
       "\n",
       "    function displayChart(vegaEmbed) {\n",
       "      vegaEmbed(outputDiv, spec, embedOpt)\n",
       "        .catch(err => showError(`Javascript Error: ${err.message}<br>This usually means there's a typo in your chart specification. See the javascript console for the full traceback.`));\n",
       "    }\n",
       "\n",
       "    if(typeof define === \"function\" && define.amd) {\n",
       "      requirejs.config({paths});\n",
       "      require([\"vega-embed\"], displayChart, err => showError(`Error loading script: ${err.message}`));\n",
       "    } else if (typeof vegaEmbed === \"function\") {\n",
       "      displayChart(vegaEmbed);\n",
       "    } else {\n",
       "      loadScript(\"vega\")\n",
       "        .then(() => loadScript(\"vega-lite\"))\n",
       "        .then(() => loadScript(\"vega-embed\"))\n",
       "        .catch(showError)\n",
       "        .then(() => displayChart(vegaEmbed));\n",
       "    }\n",
       "  })({\"config\": {\"view\": {\"continuousWidth\": 400, \"continuousHeight\": 300}, \"title\": {\"anchor\": \"middle\", \"baseline\": \"bottom\"}}, \"data\": {\"name\": \"data-55507a07f81645e51f63eaba5b403390\"}, \"mark\": \"bar\", \"encoding\": {\"color\": {\"type\": \"nominal\", \"field\": \"cohorte\", \"title\": \"Cohort\"}, \"column\": {\"type\": \"nominal\", \"field\": \"age\", \"title\": \"Age range\"}, \"x\": {\"type\": \"nominal\", \"field\": \"cohorte\", \"title\": \"\"}, \"y\": {\"type\": \"quantitative\", \"axis\": {\"format\": \"%\"}, \"field\": \"percent_icu\", \"title\": \"% of patients who went through ICU.\"}}, \"title\": [\"Percentage of patients who went through ICU during their COVID stay, \", \"as a function of their age range and diabetic status\", \" \"], \"$schema\": \"https://vega.github.io/schema/vega-lite/v4.8.1.json\", \"datasets\": {\"data-55507a07f81645e51f63eaba5b403390\": [{\"age\": \"(0, 40]\", \"cohorte\": \"Control\", \"percent_icu\": 0.32798833819241985}, {\"age\": \"(0, 40]\", \"cohorte\": \"Diab.\", \"percent_icu\": 0.445578231292517}, {\"age\": \"(40, 50]\", \"cohorte\": \"Control\", \"percent_icu\": 0.26366666666666666}, {\"age\": \"(40, 50]\", \"cohorte\": \"Diab.\", \"percent_icu\": 0.4272030651340996}, {\"age\": \"(50, 60]\", \"cohorte\": \"Control\", \"percent_icu\": 0.31593098812457987}, {\"age\": \"(50, 60]\", \"cohorte\": \"Diab.\", \"percent_icu\": 0.4647364513734224}, {\"age\": \"(60, 70]\", \"cohorte\": \"Control\", \"percent_icu\": 0.3568075117370892}, {\"age\": \"(60, 70]\", \"cohorte\": \"Diab.\", \"percent_icu\": 0.47476552032157215}, {\"age\": \"(70, 120]\", \"cohorte\": \"Control\", \"percent_icu\": 0.15933694181326116}, {\"age\": \"(70, 120]\", \"cohorte\": \"Diab.\", \"percent_icu\": 0.23017958826106}]}}, {\"mode\": \"vega-lite\"});\n",
       "</script>"
      ],
      "text/plain": [
       "alt.Chart(...)"
      ]
     },
     "execution_count": 42,
     "metadata": {},
     "output_type": "execute_result"
    }
   ],
   "source": [
    "bars = (\n",
    "    alt.Chart(\n",
    "        stats,\n",
    "        title=[\n",
    "            \"Percentage of patients who went through ICU during their COVID stay, \",\n",
    "            \"as a function of their age range and diabetic status\",\n",
    "            \" \",\n",
    "        ],\n",
    "    )\n",
    "    .mark_bar()\n",
    "    .encode(\n",
    "        x=alt.X(\"cohorte:N\", title=\"\"),\n",
    "        y=alt.Y(\n",
    "            \"percent_icu\",\n",
    "            title=\"% of patients who went through ICU.\",\n",
    "            axis=alt.Axis(format=\"%\"),\n",
    "        ),\n",
    "        color=alt.Color(\"cohorte:N\", title=\"Cohort\"),\n",
    "        column=alt.Column(\"age:N\", title=\"Age range\"),\n",
    "    )\n",
    ")\n",
    "\n",
    "bars = bars.configure_title(anchor=\"middle\", baseline=\"bottom\")\n",
    "bars"
   ]
  }
 ],
 "metadata": {
  "interpreter": {
   "hash": "6f19d11405b6eebfd4f9e0f5f83830b23fde729523b92da7a9c25917347f8f24"
  },
  "kernelspec": {
   "display_name": "Python 3 (ipykernel)",
   "language": "python",
   "name": "python3"
  },
  "language_info": {
   "codemirror_mode": {
    "name": "ipython",
    "version": 3
   },
   "file_extension": ".py",
   "mimetype": "text/x-python",
   "name": "python",
   "nbconvert_exporter": "python",
   "pygments_lexer": "ipython3",
   "version": "3.7.11"
  },
  "widgets": {
   "application/vnd.jupyter.widget-state+json": {
    "state": {},
    "version_major": 2,
    "version_minor": 0
   }
  }
 },
 "nbformat": 4,
 "nbformat_minor": 4
}
